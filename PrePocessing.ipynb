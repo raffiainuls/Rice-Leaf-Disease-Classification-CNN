{
  "nbformat": 4,
  "nbformat_minor": 0,
  "metadata": {
    "colab": {
      "name": "PrePocessing.ipynb",
      "provenance": [],
      "collapsed_sections": [],
      "authorship_tag": "ABX9TyOwrCEc8K0RPWq3OlAL66PR",
      "include_colab_link": true
    },
    "kernelspec": {
      "display_name": "Python 3",
      "name": "python3"
    },
    "language_info": {
      "name": "python"
    }
  },
  "cells": [
    {
      "cell_type": "markdown",
      "metadata": {
        "id": "view-in-github",
        "colab_type": "text"
      },
      "source": [
        "<a href=\"https://colab.research.google.com/github/raffiainuls/Rice-Leaf-Disease-Classification-CNN/blob/main/PrePocessing.ipynb\" target=\"_parent\"><img src=\"https://colab.research.google.com/assets/colab-badge.svg\" alt=\"Open In Colab\"/></a>"
      ]
    },
    {
      "cell_type": "code",
      "metadata": {
        "colab": {
          "background_save": true,
          "base_uri": "https://localhost:8080/"
        },
        "id": "ZPoomL3ctsXJ",
        "outputId": "87ff9729-e809-4c43-cd6f-4778f8086f16"
      },
      "source": [
        "from google.colab import drive\n",
        "drive.mount('/content/drive')"
      ],
      "execution_count": null,
      "outputs": [
        {
          "name": "stdout",
          "output_type": "stream",
          "text": [
            "Drive already mounted at /content/drive; to attempt to forcibly remount, call drive.mount(\"/content/drive\", force_remount=True).\n"
          ]
        }
      ]
    },
    {
      "cell_type": "markdown",
      "metadata": {
        "id": "y2pfbxMRLiZJ"
      },
      "source": [
        "**PRE - PROCESSING**"
      ]
    },
    {
      "cell_type": "code",
      "metadata": {
        "id": "q3cwtRcjCheQ"
      },
      "source": [
        "#import library \n",
        "import pandas as pd\n",
        "import numpy as np\n",
        "import os, cv2, shutil\n",
        "import numpy as np\n",
        "import matplotlib.pyplot as plt\n",
        "import matplotlib.image as mpimg\n",
        "%matplotlib inline\n",
        "from sklearn.model_selection import train_test_split\n",
        "from sklearn.utils import shuffle\n",
        "from tensorflow.keras.preprocessing.image import ImageDataGenerator"
      ],
      "execution_count": 2,
      "outputs": []
    },
    {
      "cell_type": "code",
      "metadata": {
        "id": "N4z0ZExZChcZ"
      },
      "source": [
        "IMAGE_HEIGHT = 224\n",
        "IMAGE_WIDTH = 224\n",
        "IMAGE_CHANNELS = 3"
      ],
      "execution_count": 3,
      "outputs": []
    },
    {
      "cell_type": "code",
      "metadata": {
        "colab": {
          "base_uri": "https://localhost:8080/"
        },
        "id": "JjuyyiDjChZw",
        "outputId": "d79f6b8a-aad0-469a-ee4d-25c19946de3a"
      },
      "source": [
        "os.listdir('/content/drive/MyDrive/Colab Notebooks/Pembelajaran Mesin/ML_TugasKelompok/rice_leaf_diseases')"
      ],
      "execution_count": 4,
      "outputs": [
        {
          "output_type": "execute_result",
          "data": {
            "text/plain": [
              "['Bacterial leaf blight', 'Brown spot', 'Leaf smut']"
            ]
          },
          "metadata": {},
          "execution_count": 4
        }
      ]
    },
    {
      "cell_type": "code",
      "metadata": {
        "colab": {
          "base_uri": "https://localhost:8080/"
        },
        "id": "0fu-QF7BChXa",
        "outputId": "cc4a718f-921a-4a52-dadc-c7709f6599ba"
      },
      "source": [
        "leaf_smut_list = \\\n",
        "os.listdir('/content/drive/MyDrive/Colab Notebooks/Pembelajaran Mesin/ML_TugasKelompok/rice_leaf_diseases/Leaf smut')\n",
        "brown_spot_list = \\\n",
        "os.listdir('/content/drive/MyDrive/Colab Notebooks/Pembelajaran Mesin/ML_TugasKelompok/rice_leaf_diseases/Brown spot')\n",
        "bacterial_leaf_blight_list = \\\n",
        "os.listdir('/content/drive/MyDrive/Colab Notebooks/Pembelajaran Mesin/ML_TugasKelompok/rice_leaf_diseases/Bacterial leaf blight')\n",
        "\n",
        "print(len(leaf_smut_list))\n",
        "print(len(brown_spot_list))\n",
        "print(len(bacterial_leaf_blight_list))"
      ],
      "execution_count": 5,
      "outputs": [
        {
          "output_type": "stream",
          "name": "stdout",
          "text": [
            "40\n",
            "40\n",
            "40\n"
          ]
        }
      ]
    },
    {
      "cell_type": "markdown",
      "metadata": {
        "id": "CzfLy4PDL12_"
      },
      "source": [
        "**SPLITTING DATA**"
      ]
    },
    {
      "cell_type": "code",
      "metadata": {
        "colab": {
          "base_uri": "https://localhost:8080/"
        },
        "id": "8AsSGBpyChVS",
        "outputId": "fc3bfdee-3767-4568-9411-4ce32fd0c745"
      },
      "source": [
        "# Create val sets\n",
        "\n",
        "df_leaf_smut = pd.DataFrame(leaf_smut_list, columns=['image'])\n",
        "df_leaf_smut['target'] = 'leaf_smut'\n",
        "\n",
        "df_brown_spot = pd.DataFrame(brown_spot_list, columns=['image'])\n",
        "df_brown_spot['target'] = 'brown_spot'\n",
        "\n",
        "df_bacterial_leaf_blight = pd.DataFrame(bacterial_leaf_blight_list, columns=['image'])\n",
        "df_bacterial_leaf_blight['target'] = 'bacterial_leaf_blight'\n",
        "\n",
        "\n",
        "# Create a val set for each class\n",
        "# Sample 5 validation images from each class\n",
        "df_leaf_smut_val = df_leaf_smut.sample(n=6, random_state=101)\n",
        "df_brown_spot_val = df_brown_spot.sample(n=6, random_state=101)\n",
        "df_bacterial_leaf_blight_val = df_bacterial_leaf_blight.sample(n=6, random_state=101)\n",
        "\n",
        "\n",
        "print(\"Data Val\")\n",
        "print(len(df_leaf_smut_val))\n",
        "print(len(df_brown_spot_val))\n",
        "print(len(df_bacterial_leaf_blight_val))"
      ],
      "execution_count": 6,
      "outputs": [
        {
          "output_type": "stream",
          "name": "stdout",
          "text": [
            "Data Val\n",
            "6\n",
            "6\n",
            "6\n"
          ]
        }
      ]
    },
    {
      "cell_type": "code",
      "metadata": {
        "colab": {
          "base_uri": "https://localhost:8080/"
        },
        "id": "RK1gDOAnDfZM",
        "outputId": "7dfa06d3-7540-4687-a241-89e645820d86"
      },
      "source": [
        "# Create the train set for each class\n",
        "\n",
        "# leaf_smut\n",
        "# get a list of val images\n",
        "val_list = list(df_leaf_smut_val['image'])\n",
        "# filter out the val images\n",
        "df_leaf_smut_train = df_leaf_smut[~df_leaf_smut['image'].isin(val_list)] # ~ means notin\n",
        "\n",
        "# brown_spot\n",
        "# get a list of val images\n",
        "val_list = list(df_brown_spot_val['image'])\n",
        "# filter out the val images\n",
        "df_brown_spot_train = df_brown_spot[~df_brown_spot['image'].isin(val_list)] # ~ means notin\n",
        "\n",
        "# bacterial_leaf_blight\n",
        "# get a list of val images\n",
        "val_list = list(df_bacterial_leaf_blight_val['image'])\n",
        "# filter out the val images\n",
        "df_bacterial_leaf_blight_train = \\\n",
        "df_bacterial_leaf_blight[~df_bacterial_leaf_blight['image'].isin(val_list)] # ~ means notin\n",
        "\n",
        "\n",
        "print(\"Data Train\")\n",
        "print(len(df_leaf_smut_train))\n",
        "print(len(df_brown_spot_train))\n",
        "print(len(df_bacterial_leaf_blight_train))"
      ],
      "execution_count": 7,
      "outputs": [
        {
          "output_type": "stream",
          "name": "stdout",
          "text": [
            "Data Train\n",
            "34\n",
            "34\n",
            "34\n"
          ]
        }
      ]
    },
    {
      "cell_type": "code",
      "metadata": {
        "colab": {
          "base_uri": "https://localhost:8080/"
        },
        "id": "Sfh_s7tbDfWm",
        "outputId": "fa555f42-5c96-4a05-9457-6ec8f36a2a40"
      },
      "source": [
        "# Create df_data, df_train and df_val\n",
        "\n",
        "df_data = pd.concat([df_leaf_smut, df_brown_spot, df_bacterial_leaf_blight], axis=0).reset_index(drop=True)\n",
        "\n",
        "df_train = \\\n",
        "pd.concat([df_leaf_smut_train, df_brown_spot_train, df_bacterial_leaf_blight_train], axis=0).reset_index(drop=True)\n",
        "\n",
        "df_val = \\\n",
        "pd.concat([df_leaf_smut_val, df_brown_spot_val, df_bacterial_leaf_blight_val], axis=0).reset_index(drop=True)\n",
        "\n",
        "df_data = shuffle(df_data)\n",
        "df_train = shuffle(df_train)\n",
        "df_val = shuffle(df_val)\n",
        "\n",
        "print(df_data.shape)\n",
        "print(df_train.shape)\n",
        "print(df_val.shape)"
      ],
      "execution_count": 8,
      "outputs": [
        {
          "output_type": "stream",
          "name": "stdout",
          "text": [
            "(120, 2)\n",
            "(102, 2)\n",
            "(18, 2)\n"
          ]
        }
      ]
    },
    {
      "cell_type": "code",
      "metadata": {
        "colab": {
          "base_uri": "https://localhost:8080/"
        },
        "id": "q2_LSSL8ChTO",
        "outputId": "18975521-abfa-4bc9-b446-2a39e86e4b6c"
      },
      "source": [
        "df_data['target'].value_counts()"
      ],
      "execution_count": 9,
      "outputs": [
        {
          "output_type": "execute_result",
          "data": {
            "text/plain": [
              "brown_spot               40\n",
              "bacterial_leaf_blight    40\n",
              "leaf_smut                40\n",
              "Name: target, dtype: int64"
            ]
          },
          "metadata": {},
          "execution_count": 9
        }
      ]
    },
    {
      "cell_type": "code",
      "metadata": {
        "colab": {
          "base_uri": "https://localhost:8080/"
        },
        "id": "h8T92xHTChQg",
        "outputId": "e97eb572-6943-46a9-e09c-f6123bb11f24"
      },
      "source": [
        "df_train['target'].value_counts()"
      ],
      "execution_count": 10,
      "outputs": [
        {
          "output_type": "execute_result",
          "data": {
            "text/plain": [
              "brown_spot               34\n",
              "bacterial_leaf_blight    34\n",
              "leaf_smut                34\n",
              "Name: target, dtype: int64"
            ]
          },
          "metadata": {},
          "execution_count": 10
        }
      ]
    },
    {
      "cell_type": "code",
      "metadata": {
        "colab": {
          "base_uri": "https://localhost:8080/"
        },
        "id": "uMyuq2F5GziJ",
        "outputId": "b97d39f4-d99f-401f-f012-6d11add70971"
      },
      "source": [
        "df_val['target'].value_counts()"
      ],
      "execution_count": 11,
      "outputs": [
        {
          "output_type": "execute_result",
          "data": {
            "text/plain": [
              "leaf_smut                6\n",
              "brown_spot               6\n",
              "bacterial_leaf_blight    6\n",
              "Name: target, dtype: int64"
            ]
          },
          "metadata": {},
          "execution_count": 11
        }
      ]
    },
    {
      "cell_type": "code",
      "metadata": {
        "colab": {
          "base_uri": "https://localhost:8080/"
        },
        "id": "_bEgDuFkGzgG",
        "outputId": "9b62f22a-c0f5-444a-f5c2-ebd54aff1a50"
      },
      "source": [
        "# Create the target as index values\n",
        "\n",
        "# combine val, train and test\n",
        "val_len = len(df_val)\n",
        "train_len = len(df_train)\n",
        "df_combined =  pd.concat(objs=[df_val, df_train], axis=0).reset_index(drop=True)\n",
        "\n",
        "# create the dummy variables\n",
        "df_combined = pd.get_dummies(df_combined, columns=['target'])\n",
        "\n",
        "# separate the train and val sets\n",
        "df_val = df_combined[:val_len]\n",
        "df_train = df_combined[val_len:]\n",
        "\n",
        "\n",
        "print(df_train.shape)\n",
        "print(df_val.shape)"
      ],
      "execution_count": 12,
      "outputs": [
        {
          "output_type": "stream",
          "name": "stdout",
          "text": [
            "(102, 4)\n",
            "(18, 4)\n"
          ]
        }
      ]
    },
    {
      "cell_type": "code",
      "metadata": {
        "colab": {
          "base_uri": "https://localhost:8080/",
          "height": 206
        },
        "id": "7OPvJbC3HtC_",
        "outputId": "50d480df-d479-42d9-a2ed-50c41bbfca4e"
      },
      "source": [
        "df_combined.head()"
      ],
      "execution_count": 13,
      "outputs": [
        {
          "output_type": "execute_result",
          "data": {
            "text/html": [
              "<div>\n",
              "<style scoped>\n",
              "    .dataframe tbody tr th:only-of-type {\n",
              "        vertical-align: middle;\n",
              "    }\n",
              "\n",
              "    .dataframe tbody tr th {\n",
              "        vertical-align: top;\n",
              "    }\n",
              "\n",
              "    .dataframe thead th {\n",
              "        text-align: right;\n",
              "    }\n",
              "</style>\n",
              "<table border=\"1\" class=\"dataframe\">\n",
              "  <thead>\n",
              "    <tr style=\"text-align: right;\">\n",
              "      <th></th>\n",
              "      <th>image</th>\n",
              "      <th>target_bacterial_leaf_blight</th>\n",
              "      <th>target_brown_spot</th>\n",
              "      <th>target_leaf_smut</th>\n",
              "    </tr>\n",
              "  </thead>\n",
              "  <tbody>\n",
              "    <tr>\n",
              "      <th>0</th>\n",
              "      <td>DSC_0702.jpg</td>\n",
              "      <td>1</td>\n",
              "      <td>0</td>\n",
              "      <td>0</td>\n",
              "    </tr>\n",
              "    <tr>\n",
              "      <th>1</th>\n",
              "      <td>DSC_0383.JPG</td>\n",
              "      <td>1</td>\n",
              "      <td>0</td>\n",
              "      <td>0</td>\n",
              "    </tr>\n",
              "    <tr>\n",
              "      <th>2</th>\n",
              "      <td>DSC_0378.JPG</td>\n",
              "      <td>1</td>\n",
              "      <td>0</td>\n",
              "      <td>0</td>\n",
              "    </tr>\n",
              "    <tr>\n",
              "      <th>3</th>\n",
              "      <td>DSC_0114.jpg</td>\n",
              "      <td>0</td>\n",
              "      <td>1</td>\n",
              "      <td>0</td>\n",
              "    </tr>\n",
              "    <tr>\n",
              "      <th>4</th>\n",
              "      <td>DSC_0510.jpg</td>\n",
              "      <td>0</td>\n",
              "      <td>0</td>\n",
              "      <td>1</td>\n",
              "    </tr>\n",
              "  </tbody>\n",
              "</table>\n",
              "</div>"
            ],
            "text/plain": [
              "          image  ...  target_leaf_smut\n",
              "0  DSC_0702.jpg  ...                 0\n",
              "1  DSC_0383.JPG  ...                 0\n",
              "2  DSC_0378.JPG  ...                 0\n",
              "3  DSC_0114.jpg  ...                 0\n",
              "4  DSC_0510.jpg  ...                 1\n",
              "\n",
              "[5 rows x 4 columns]"
            ]
          },
          "metadata": {},
          "execution_count": 13
        }
      ]
    },
    {
      "cell_type": "code",
      "metadata": {
        "colab": {
          "base_uri": "https://localhost:8080/",
          "height": 206
        },
        "id": "BWeISb-_Hs90",
        "outputId": "98246ae5-6ff8-428e-9040-52d346f50bd7"
      },
      "source": [
        "df_train.head()"
      ],
      "execution_count": 14,
      "outputs": [
        {
          "output_type": "execute_result",
          "data": {
            "text/html": [
              "<div>\n",
              "<style scoped>\n",
              "    .dataframe tbody tr th:only-of-type {\n",
              "        vertical-align: middle;\n",
              "    }\n",
              "\n",
              "    .dataframe tbody tr th {\n",
              "        vertical-align: top;\n",
              "    }\n",
              "\n",
              "    .dataframe thead th {\n",
              "        text-align: right;\n",
              "    }\n",
              "</style>\n",
              "<table border=\"1\" class=\"dataframe\">\n",
              "  <thead>\n",
              "    <tr style=\"text-align: right;\">\n",
              "      <th></th>\n",
              "      <th>image</th>\n",
              "      <th>target_bacterial_leaf_blight</th>\n",
              "      <th>target_brown_spot</th>\n",
              "      <th>target_leaf_smut</th>\n",
              "    </tr>\n",
              "  </thead>\n",
              "  <tbody>\n",
              "    <tr>\n",
              "      <th>18</th>\n",
              "      <td>DSC_0391.jpg</td>\n",
              "      <td>0</td>\n",
              "      <td>1</td>\n",
              "      <td>0</td>\n",
              "    </tr>\n",
              "    <tr>\n",
              "      <th>19</th>\n",
              "      <td>DSC_0306.JPG</td>\n",
              "      <td>0</td>\n",
              "      <td>1</td>\n",
              "      <td>0</td>\n",
              "    </tr>\n",
              "    <tr>\n",
              "      <th>20</th>\n",
              "      <td>DSC_0339.jpg</td>\n",
              "      <td>0</td>\n",
              "      <td>0</td>\n",
              "      <td>1</td>\n",
              "    </tr>\n",
              "    <tr>\n",
              "      <th>21</th>\n",
              "      <td>DSC_0515.jpg</td>\n",
              "      <td>0</td>\n",
              "      <td>0</td>\n",
              "      <td>1</td>\n",
              "    </tr>\n",
              "    <tr>\n",
              "      <th>22</th>\n",
              "      <td>DSC_0514.jpg</td>\n",
              "      <td>0</td>\n",
              "      <td>0</td>\n",
              "      <td>1</td>\n",
              "    </tr>\n",
              "  </tbody>\n",
              "</table>\n",
              "</div>"
            ],
            "text/plain": [
              "           image  ...  target_leaf_smut\n",
              "18  DSC_0391.jpg  ...                 0\n",
              "19  DSC_0306.JPG  ...                 0\n",
              "20  DSC_0339.jpg  ...                 1\n",
              "21  DSC_0515.jpg  ...                 1\n",
              "22  DSC_0514.jpg  ...                 1\n",
              "\n",
              "[5 rows x 4 columns]"
            ]
          },
          "metadata": {},
          "execution_count": 14
        }
      ]
    },
    {
      "cell_type": "code",
      "metadata": {
        "colab": {
          "base_uri": "https://localhost:8080/",
          "height": 206
        },
        "id": "M5Q1qcE0Hs70",
        "outputId": "88a73740-0751-4362-b618-383ba4590a74"
      },
      "source": [
        "df_val.head()"
      ],
      "execution_count": 15,
      "outputs": [
        {
          "output_type": "execute_result",
          "data": {
            "text/html": [
              "<div>\n",
              "<style scoped>\n",
              "    .dataframe tbody tr th:only-of-type {\n",
              "        vertical-align: middle;\n",
              "    }\n",
              "\n",
              "    .dataframe tbody tr th {\n",
              "        vertical-align: top;\n",
              "    }\n",
              "\n",
              "    .dataframe thead th {\n",
              "        text-align: right;\n",
              "    }\n",
              "</style>\n",
              "<table border=\"1\" class=\"dataframe\">\n",
              "  <thead>\n",
              "    <tr style=\"text-align: right;\">\n",
              "      <th></th>\n",
              "      <th>image</th>\n",
              "      <th>target_bacterial_leaf_blight</th>\n",
              "      <th>target_brown_spot</th>\n",
              "      <th>target_leaf_smut</th>\n",
              "    </tr>\n",
              "  </thead>\n",
              "  <tbody>\n",
              "    <tr>\n",
              "      <th>0</th>\n",
              "      <td>DSC_0702.jpg</td>\n",
              "      <td>1</td>\n",
              "      <td>0</td>\n",
              "      <td>0</td>\n",
              "    </tr>\n",
              "    <tr>\n",
              "      <th>1</th>\n",
              "      <td>DSC_0383.JPG</td>\n",
              "      <td>1</td>\n",
              "      <td>0</td>\n",
              "      <td>0</td>\n",
              "    </tr>\n",
              "    <tr>\n",
              "      <th>2</th>\n",
              "      <td>DSC_0378.JPG</td>\n",
              "      <td>1</td>\n",
              "      <td>0</td>\n",
              "      <td>0</td>\n",
              "    </tr>\n",
              "    <tr>\n",
              "      <th>3</th>\n",
              "      <td>DSC_0114.jpg</td>\n",
              "      <td>0</td>\n",
              "      <td>1</td>\n",
              "      <td>0</td>\n",
              "    </tr>\n",
              "    <tr>\n",
              "      <th>4</th>\n",
              "      <td>DSC_0510.jpg</td>\n",
              "      <td>0</td>\n",
              "      <td>0</td>\n",
              "      <td>1</td>\n",
              "    </tr>\n",
              "  </tbody>\n",
              "</table>\n",
              "</div>"
            ],
            "text/plain": [
              "          image  ...  target_leaf_smut\n",
              "0  DSC_0702.jpg  ...                 0\n",
              "1  DSC_0383.JPG  ...                 0\n",
              "2  DSC_0378.JPG  ...                 0\n",
              "3  DSC_0114.jpg  ...                 0\n",
              "4  DSC_0510.jpg  ...                 1\n",
              "\n",
              "[5 rows x 4 columns]"
            ]
          },
          "metadata": {},
          "execution_count": 15
        }
      ]
    },
    {
      "cell_type": "markdown",
      "metadata": {
        "id": "7HAwjt77LOS6"
      },
      "source": [
        "**SAVE DATAFRAME SEBAGAI CSV**"
      ]
    },
    {
      "cell_type": "code",
      "metadata": {
        "id": "NqCiWr5AHs3L"
      },
      "source": [
        "df_combined.to_csv('df_combined.csv.gz', compression='gzip', index=False)\n",
        "\n",
        "df_train.to_csv('df_train.csv.gz', compression='gzip', index=False)\n",
        "df_val.to_csv('df_val.csv.gz', compression='gzip', index=False)"
      ],
      "execution_count": 16,
      "outputs": []
    },
    {
      "cell_type": "code",
      "metadata": {
        "id": "RdBN-rDZSyqQ"
      },
      "source": [
        "  \"\"\" LINK DRIVE FILE DIATAS \"\"\"\n",
        "https://drive.google.com/drive/folders/1A0_UsDdHG-jRU8-q0q8kfEHFuDavEpM9?usp=sharing"
      ],
      "execution_count": null,
      "outputs": []
    }
  ]
}