{
  "nbformat": 4,
  "nbformat_minor": 0,
  "metadata": {
    "colab": {
      "name": "PrePocessing.ipynb",
      "provenance": [],
      "collapsed_sections": [],
      "authorship_tag": "ABX9TyM5RhTAYC3tQtlcxwCBN1qo",
      "include_colab_link": true
    },
    "kernelspec": {
      "name": "python3",
      "display_name": "Python 3"
    },
    "language_info": {
      "name": "python"
    }
  },
  "cells": [
    {
      "cell_type": "markdown",
      "metadata": {
        "id": "view-in-github",
        "colab_type": "text"
      },
      "source": [
        "<a href=\"https://colab.research.google.com/github/raffiainuls/Rice-Leaf-Disease-Classification-CNN/blob/main/PrePocessing.ipynb\" target=\"_parent\"><img src=\"https://colab.research.google.com/assets/colab-badge.svg\" alt=\"Open In Colab\"/></a>"
      ]
    },
    {
      "cell_type": "code",
      "metadata": {
        "colab": {
          "base_uri": "https://localhost:8080/"
        },
        "id": "ZPoomL3ctsXJ",
        "outputId": "1c185c32-a7a1-4587-8888-8e2b196ae3cc"
      },
      "source": [
        "from google.colab import drive\n",
        "drive.mount('/content/drive')"
      ],
      "execution_count": 1,
      "outputs": [
        {
          "output_type": "stream",
          "name": "stdout",
          "text": [
            "Drive already mounted at /content/drive; to attempt to forcibly remount, call drive.mount(\"/content/drive\", force_remount=True).\n"
          ]
        }
      ]
    },
    {
      "cell_type": "markdown",
      "metadata": {
        "id": "y2pfbxMRLiZJ"
      },
      "source": [
        "PRE - PROCESSING"
      ]
    },
    {
      "cell_type": "code",
      "metadata": {
        "id": "q3cwtRcjCheQ"
      },
      "source": [
        "import pandas as pd\n",
        "import numpy as np\n",
        "import os\n",
        "\n",
        "import cv2\n",
        "\n",
        "import albumentations as albu\n",
        "from albumentations import Compose, ShiftScaleRotate, Resize\n",
        "from albumentations.pytorch import ToTensor\n",
        "\n",
        "\n",
        "from sklearn.model_selection import train_test_split\n",
        "from sklearn.utils import shuffle\n",
        "\n",
        "from sklearn.metrics import confusion_matrix\n",
        "import itertools\n",
        "from sklearn.metrics import classification_report\n",
        "\n",
        "import shutil\n",
        "\n",
        "import matplotlib.pyplot as plt\n",
        "%matplotlib inline"
      ],
      "execution_count": 2,
      "outputs": []
    },
    {
      "cell_type": "code",
      "metadata": {
        "id": "N4z0ZExZChcZ"
      },
      "source": [
        "IMAGE_HEIGHT = 224\n",
        "IMAGE_WIDTH = 224\n",
        "IMAGE_CHANNELS = 3"
      ],
      "execution_count": 3,
      "outputs": []
    },
    {
      "cell_type": "code",
      "metadata": {
        "colab": {
          "base_uri": "https://localhost:8080/"
        },
        "id": "JjuyyiDjChZw",
        "outputId": "92689d79-dc53-4860-e6f8-31176cd2fb0f"
      },
      "source": [
        "os.listdir('/content/drive/MyDrive/Colab Notebooks/Pembelajaran Mesin/ML_TugasKelompok/rice_leaf_diseases')"
      ],
      "execution_count": 4,
      "outputs": [
        {
          "output_type": "execute_result",
          "data": {
            "text/plain": [
              "['Bacterial leaf blight', 'Brown spot', 'Leaf smut']"
            ]
          },
          "metadata": {},
          "execution_count": 4
        }
      ]
    },
    {
      "cell_type": "code",
      "metadata": {
        "colab": {
          "base_uri": "https://localhost:8080/"
        },
        "id": "0fu-QF7BChXa",
        "outputId": "1ea008b2-b659-4e99-d3f5-27521e30534d"
      },
      "source": [
        "leaf_smut_list = \\\n",
        "os.listdir('/content/drive/MyDrive/Colab Notebooks/Pembelajaran Mesin/ML_TugasKelompok/rice_leaf_diseases/Leaf smut')\n",
        "brown_spot_list = \\\n",
        "os.listdir('/content/drive/MyDrive/Colab Notebooks/Pembelajaran Mesin/ML_TugasKelompok/rice_leaf_diseases/Brown spot')\n",
        "bacterial_leaf_blight_list = \\\n",
        "os.listdir('/content/drive/MyDrive/Colab Notebooks/Pembelajaran Mesin/ML_TugasKelompok/rice_leaf_diseases/Bacterial leaf blight')\n",
        "\n",
        "print(len(leaf_smut_list))\n",
        "print(len(brown_spot_list))\n",
        "print(len(bacterial_leaf_blight_list))"
      ],
      "execution_count": 5,
      "outputs": [
        {
          "output_type": "stream",
          "name": "stdout",
          "text": [
            "40\n",
            "40\n",
            "40\n"
          ]
        }
      ]
    },
    {
      "cell_type": "markdown",
      "metadata": {
        "id": "CzfLy4PDL12_"
      },
      "source": [
        "SPLITTING DATA"
      ]
    },
    {
      "cell_type": "code",
      "metadata": {
        "colab": {
          "base_uri": "https://localhost:8080/"
        },
        "id": "8AsSGBpyChVS",
        "outputId": "fb8f210d-bfb7-4e53-9eb4-d053859cf743"
      },
      "source": [
        "# Create val sets\n",
        "\n",
        "df_leaf_smut = pd.DataFrame(leaf_smut_list, columns=['image'])\n",
        "df_leaf_smut['target'] = 'leaf_smut'\n",
        "\n",
        "df_brown_spot = pd.DataFrame(brown_spot_list, columns=['image'])\n",
        "df_brown_spot['target'] = 'brown_spot'\n",
        "\n",
        "df_bacterial_leaf_blight = pd.DataFrame(bacterial_leaf_blight_list, columns=['image'])\n",
        "df_bacterial_leaf_blight['target'] = 'bacterial_leaf_blight'\n",
        "\n",
        "\n",
        "# Create a val set for each class\n",
        "# Sample 5 validation images from each class\n",
        "df_leaf_smut_val = df_leaf_smut.sample(n=6, random_state=101)\n",
        "df_brown_spot_val = df_brown_spot.sample(n=6, random_state=101)\n",
        "df_bacterial_leaf_blight_val = df_bacterial_leaf_blight.sample(n=6, random_state=101)\n",
        "\n",
        "\n",
        "print(\"Data Val\")\n",
        "print(len(df_leaf_smut_val))\n",
        "print(len(df_brown_spot_val))\n",
        "print(len(df_bacterial_leaf_blight_val))"
      ],
      "execution_count": 28,
      "outputs": [
        {
          "output_type": "stream",
          "name": "stdout",
          "text": [
            "Data Val\n",
            "6\n",
            "6\n",
            "6\n"
          ]
        }
      ]
    },
    {
      "cell_type": "code",
      "metadata": {
        "colab": {
          "base_uri": "https://localhost:8080/"
        },
        "id": "RK1gDOAnDfZM",
        "outputId": "44ab030c-c498-4719-8361-d58dcf21577c"
      },
      "source": [
        "# Create the train set for each class\n",
        "\n",
        "# leaf_smut\n",
        "# get a list of val images\n",
        "val_list = list(df_leaf_smut_val['image'])\n",
        "# filter out the val images\n",
        "df_leaf_smut_train = df_leaf_smut[~df_leaf_smut['image'].isin(val_list)] # ~ means notin\n",
        "\n",
        "# brown_spot\n",
        "# get a list of val images\n",
        "val_list = list(df_brown_spot_val['image'])\n",
        "# filter out the val images\n",
        "df_brown_spot_train = df_brown_spot[~df_brown_spot['image'].isin(val_list)] # ~ means notin\n",
        "\n",
        "# bacterial_leaf_blight\n",
        "# get a list of val images\n",
        "val_list = list(df_bacterial_leaf_blight_val['image'])\n",
        "# filter out the val images\n",
        "df_bacterial_leaf_blight_train = \\\n",
        "df_bacterial_leaf_blight[~df_bacterial_leaf_blight['image'].isin(val_list)] # ~ means notin\n",
        "\n",
        "\n",
        "print(\"Data Train\")\n",
        "print(len(df_leaf_smut_train))\n",
        "print(len(df_brown_spot_train))\n",
        "print(len(df_bacterial_leaf_blight_train))"
      ],
      "execution_count": 29,
      "outputs": [
        {
          "output_type": "stream",
          "name": "stdout",
          "text": [
            "Data Train\n",
            "34\n",
            "34\n",
            "34\n"
          ]
        }
      ]
    },
    {
      "cell_type": "code",
      "metadata": {
        "colab": {
          "base_uri": "https://localhost:8080/"
        },
        "id": "Sfh_s7tbDfWm",
        "outputId": "b2c262cf-7d06-4289-f2e0-c61cc4c570d0"
      },
      "source": [
        "# Create df_data, df_train and df_val\n",
        "\n",
        "df_data = pd.concat([df_leaf_smut, df_brown_spot, df_bacterial_leaf_blight], axis=0).reset_index(drop=True)\n",
        "\n",
        "df_train = \\\n",
        "pd.concat([df_leaf_smut_train, df_brown_spot_train, df_bacterial_leaf_blight_train], axis=0).reset_index(drop=True)\n",
        "\n",
        "df_val = \\\n",
        "pd.concat([df_leaf_smut_val, df_brown_spot_val, df_bacterial_leaf_blight_val], axis=0).reset_index(drop=True)\n",
        "\n",
        "df_data = shuffle(df_data)\n",
        "df_train = shuffle(df_train)\n",
        "df_val = shuffle(df_val)\n",
        "\n",
        "print(df_data.shape)\n",
        "print(df_train.shape)\n",
        "print(df_val.shape)"
      ],
      "execution_count": 30,
      "outputs": [
        {
          "output_type": "stream",
          "name": "stdout",
          "text": [
            "(120, 2)\n",
            "(102, 2)\n",
            "(18, 2)\n"
          ]
        }
      ]
    },
    {
      "cell_type": "code",
      "metadata": {
        "colab": {
          "base_uri": "https://localhost:8080/"
        },
        "id": "q2_LSSL8ChTO",
        "outputId": "97071dd7-3951-4bc4-adc9-fe227f1ec6c9"
      },
      "source": [
        "df_data['target'].value_counts()"
      ],
      "execution_count": 31,
      "outputs": [
        {
          "output_type": "execute_result",
          "data": {
            "text/plain": [
              "leaf_smut                40\n",
              "bacterial_leaf_blight    40\n",
              "brown_spot               40\n",
              "Name: target, dtype: int64"
            ]
          },
          "metadata": {},
          "execution_count": 31
        }
      ]
    },
    {
      "cell_type": "code",
      "metadata": {
        "colab": {
          "base_uri": "https://localhost:8080/"
        },
        "id": "h8T92xHTChQg",
        "outputId": "2a63474d-2a7a-44e7-8915-58aac427fc14"
      },
      "source": [
        "df_train['target'].value_counts()"
      ],
      "execution_count": 32,
      "outputs": [
        {
          "output_type": "execute_result",
          "data": {
            "text/plain": [
              "leaf_smut                34\n",
              "bacterial_leaf_blight    34\n",
              "brown_spot               34\n",
              "Name: target, dtype: int64"
            ]
          },
          "metadata": {},
          "execution_count": 32
        }
      ]
    },
    {
      "cell_type": "code",
      "metadata": {
        "colab": {
          "base_uri": "https://localhost:8080/"
        },
        "id": "uMyuq2F5GziJ",
        "outputId": "19bc56e4-036e-4f2a-9194-a6565b061257"
      },
      "source": [
        "df_val['target'].value_counts()"
      ],
      "execution_count": 33,
      "outputs": [
        {
          "output_type": "execute_result",
          "data": {
            "text/plain": [
              "bacterial_leaf_blight    6\n",
              "brown_spot               6\n",
              "leaf_smut                6\n",
              "Name: target, dtype: int64"
            ]
          },
          "metadata": {},
          "execution_count": 33
        }
      ]
    },
    {
      "cell_type": "code",
      "metadata": {
        "colab": {
          "base_uri": "https://localhost:8080/"
        },
        "id": "_bEgDuFkGzgG",
        "outputId": "e4e079b4-3b14-4bea-f86f-19c6f1a6b987"
      },
      "source": [
        "# Create the target as index values\n",
        "\n",
        "# combine val, train and test\n",
        "val_len = len(df_val)\n",
        "train_len = len(df_train)\n",
        "df_combined =  pd.concat(objs=[df_val, df_train], axis=0).reset_index(drop=True)\n",
        "\n",
        "# create the dummy variables\n",
        "df_combined = pd.get_dummies(df_combined, columns=['target'])\n",
        "\n",
        "# separate the train and val sets\n",
        "df_val = df_combined[:val_len]\n",
        "df_train = df_combined[val_len:]\n",
        "\n",
        "\n",
        "print(df_train.shape)\n",
        "print(df_val.shape)"
      ],
      "execution_count": 34,
      "outputs": [
        {
          "output_type": "stream",
          "name": "stdout",
          "text": [
            "(102, 4)\n",
            "(18, 4)\n"
          ]
        }
      ]
    },
    {
      "cell_type": "code",
      "metadata": {
        "colab": {
          "base_uri": "https://localhost:8080/",
          "height": 206
        },
        "id": "7OPvJbC3HtC_",
        "outputId": "882417ae-7851-424e-a8d1-80880fb44983"
      },
      "source": [
        "df_combined.head()"
      ],
      "execution_count": 35,
      "outputs": [
        {
          "output_type": "execute_result",
          "data": {
            "text/html": [
              "<div>\n",
              "<style scoped>\n",
              "    .dataframe tbody tr th:only-of-type {\n",
              "        vertical-align: middle;\n",
              "    }\n",
              "\n",
              "    .dataframe tbody tr th {\n",
              "        vertical-align: top;\n",
              "    }\n",
              "\n",
              "    .dataframe thead th {\n",
              "        text-align: right;\n",
              "    }\n",
              "</style>\n",
              "<table border=\"1\" class=\"dataframe\">\n",
              "  <thead>\n",
              "    <tr style=\"text-align: right;\">\n",
              "      <th></th>\n",
              "      <th>image</th>\n",
              "      <th>target_bacterial_leaf_blight</th>\n",
              "      <th>target_brown_spot</th>\n",
              "      <th>target_leaf_smut</th>\n",
              "    </tr>\n",
              "  </thead>\n",
              "  <tbody>\n",
              "    <tr>\n",
              "      <th>0</th>\n",
              "      <td>DSC_0404.JPG</td>\n",
              "      <td>1</td>\n",
              "      <td>0</td>\n",
              "      <td>0</td>\n",
              "    </tr>\n",
              "    <tr>\n",
              "      <th>1</th>\n",
              "      <td>DSC_0394.jpg</td>\n",
              "      <td>0</td>\n",
              "      <td>1</td>\n",
              "      <td>0</td>\n",
              "    </tr>\n",
              "    <tr>\n",
              "      <th>2</th>\n",
              "      <td>DSC_0511.jpg</td>\n",
              "      <td>0</td>\n",
              "      <td>0</td>\n",
              "      <td>1</td>\n",
              "    </tr>\n",
              "    <tr>\n",
              "      <th>3</th>\n",
              "      <td>DSC_0510.jpg</td>\n",
              "      <td>0</td>\n",
              "      <td>0</td>\n",
              "      <td>1</td>\n",
              "    </tr>\n",
              "    <tr>\n",
              "      <th>4</th>\n",
              "      <td>DSC_0398.JPG</td>\n",
              "      <td>1</td>\n",
              "      <td>0</td>\n",
              "      <td>0</td>\n",
              "    </tr>\n",
              "  </tbody>\n",
              "</table>\n",
              "</div>"
            ],
            "text/plain": [
              "          image  ...  target_leaf_smut\n",
              "0  DSC_0404.JPG  ...                 0\n",
              "1  DSC_0394.jpg  ...                 0\n",
              "2  DSC_0511.jpg  ...                 1\n",
              "3  DSC_0510.jpg  ...                 1\n",
              "4  DSC_0398.JPG  ...                 0\n",
              "\n",
              "[5 rows x 4 columns]"
            ]
          },
          "metadata": {},
          "execution_count": 35
        }
      ]
    },
    {
      "cell_type": "code",
      "metadata": {
        "colab": {
          "base_uri": "https://localhost:8080/",
          "height": 206
        },
        "id": "BWeISb-_Hs90",
        "outputId": "8f75bb7d-fa60-4ff3-9b60-199bbf2c567e"
      },
      "source": [
        "df_train.head()"
      ],
      "execution_count": 36,
      "outputs": [
        {
          "output_type": "execute_result",
          "data": {
            "text/html": [
              "<div>\n",
              "<style scoped>\n",
              "    .dataframe tbody tr th:only-of-type {\n",
              "        vertical-align: middle;\n",
              "    }\n",
              "\n",
              "    .dataframe tbody tr th {\n",
              "        vertical-align: top;\n",
              "    }\n",
              "\n",
              "    .dataframe thead th {\n",
              "        text-align: right;\n",
              "    }\n",
              "</style>\n",
              "<table border=\"1\" class=\"dataframe\">\n",
              "  <thead>\n",
              "    <tr style=\"text-align: right;\">\n",
              "      <th></th>\n",
              "      <th>image</th>\n",
              "      <th>target_bacterial_leaf_blight</th>\n",
              "      <th>target_brown_spot</th>\n",
              "      <th>target_leaf_smut</th>\n",
              "    </tr>\n",
              "  </thead>\n",
              "  <tbody>\n",
              "    <tr>\n",
              "      <th>18</th>\n",
              "      <td>DSC_0391.jpg</td>\n",
              "      <td>0</td>\n",
              "      <td>1</td>\n",
              "      <td>0</td>\n",
              "    </tr>\n",
              "    <tr>\n",
              "      <th>19</th>\n",
              "      <td>DSC_0309.JPG</td>\n",
              "      <td>0</td>\n",
              "      <td>0</td>\n",
              "      <td>1</td>\n",
              "    </tr>\n",
              "    <tr>\n",
              "      <th>20</th>\n",
              "      <td>DSC_0376.JPG</td>\n",
              "      <td>1</td>\n",
              "      <td>0</td>\n",
              "      <td>0</td>\n",
              "    </tr>\n",
              "    <tr>\n",
              "      <th>21</th>\n",
              "      <td>DSC_0405.JPG</td>\n",
              "      <td>1</td>\n",
              "      <td>0</td>\n",
              "      <td>0</td>\n",
              "    </tr>\n",
              "    <tr>\n",
              "      <th>22</th>\n",
              "      <td>DSC_0310.JPG</td>\n",
              "      <td>0</td>\n",
              "      <td>0</td>\n",
              "      <td>1</td>\n",
              "    </tr>\n",
              "  </tbody>\n",
              "</table>\n",
              "</div>"
            ],
            "text/plain": [
              "           image  ...  target_leaf_smut\n",
              "18  DSC_0391.jpg  ...                 0\n",
              "19  DSC_0309.JPG  ...                 1\n",
              "20  DSC_0376.JPG  ...                 0\n",
              "21  DSC_0405.JPG  ...                 0\n",
              "22  DSC_0310.JPG  ...                 1\n",
              "\n",
              "[5 rows x 4 columns]"
            ]
          },
          "metadata": {},
          "execution_count": 36
        }
      ]
    },
    {
      "cell_type": "code",
      "metadata": {
        "colab": {
          "base_uri": "https://localhost:8080/",
          "height": 206
        },
        "id": "M5Q1qcE0Hs70",
        "outputId": "c1f98595-5fb6-40bc-a4ba-9e639da9ee86"
      },
      "source": [
        "df_val.head()"
      ],
      "execution_count": 37,
      "outputs": [
        {
          "output_type": "execute_result",
          "data": {
            "text/html": [
              "<div>\n",
              "<style scoped>\n",
              "    .dataframe tbody tr th:only-of-type {\n",
              "        vertical-align: middle;\n",
              "    }\n",
              "\n",
              "    .dataframe tbody tr th {\n",
              "        vertical-align: top;\n",
              "    }\n",
              "\n",
              "    .dataframe thead th {\n",
              "        text-align: right;\n",
              "    }\n",
              "</style>\n",
              "<table border=\"1\" class=\"dataframe\">\n",
              "  <thead>\n",
              "    <tr style=\"text-align: right;\">\n",
              "      <th></th>\n",
              "      <th>image</th>\n",
              "      <th>target_bacterial_leaf_blight</th>\n",
              "      <th>target_brown_spot</th>\n",
              "      <th>target_leaf_smut</th>\n",
              "    </tr>\n",
              "  </thead>\n",
              "  <tbody>\n",
              "    <tr>\n",
              "      <th>0</th>\n",
              "      <td>DSC_0404.JPG</td>\n",
              "      <td>1</td>\n",
              "      <td>0</td>\n",
              "      <td>0</td>\n",
              "    </tr>\n",
              "    <tr>\n",
              "      <th>1</th>\n",
              "      <td>DSC_0394.jpg</td>\n",
              "      <td>0</td>\n",
              "      <td>1</td>\n",
              "      <td>0</td>\n",
              "    </tr>\n",
              "    <tr>\n",
              "      <th>2</th>\n",
              "      <td>DSC_0511.jpg</td>\n",
              "      <td>0</td>\n",
              "      <td>0</td>\n",
              "      <td>1</td>\n",
              "    </tr>\n",
              "    <tr>\n",
              "      <th>3</th>\n",
              "      <td>DSC_0510.jpg</td>\n",
              "      <td>0</td>\n",
              "      <td>0</td>\n",
              "      <td>1</td>\n",
              "    </tr>\n",
              "    <tr>\n",
              "      <th>4</th>\n",
              "      <td>DSC_0398.JPG</td>\n",
              "      <td>1</td>\n",
              "      <td>0</td>\n",
              "      <td>0</td>\n",
              "    </tr>\n",
              "  </tbody>\n",
              "</table>\n",
              "</div>"
            ],
            "text/plain": [
              "          image  ...  target_leaf_smut\n",
              "0  DSC_0404.JPG  ...                 0\n",
              "1  DSC_0394.jpg  ...                 0\n",
              "2  DSC_0511.jpg  ...                 1\n",
              "3  DSC_0510.jpg  ...                 1\n",
              "4  DSC_0398.JPG  ...                 0\n",
              "\n",
              "[5 rows x 4 columns]"
            ]
          },
          "metadata": {},
          "execution_count": 37
        }
      ]
    },
    {
      "cell_type": "markdown",
      "metadata": {
        "id": "7HAwjt77LOS6"
      },
      "source": [
        "SAVE DATAFRAME SEBAGAI CSV"
      ]
    },
    {
      "cell_type": "code",
      "metadata": {
        "id": "NqCiWr5AHs3L"
      },
      "source": [
        "df_combined.to_csv('df_combined.csv.gz', compression='gzip', index=False)\n",
        "\n",
        "df_train.to_csv('df_train.csv.gz', compression='gzip', index=False)\n",
        "df_val.to_csv('df_val.csv.gz', compression='gzip', index=False)"
      ],
      "execution_count": 38,
      "outputs": []
    }
  ]
}