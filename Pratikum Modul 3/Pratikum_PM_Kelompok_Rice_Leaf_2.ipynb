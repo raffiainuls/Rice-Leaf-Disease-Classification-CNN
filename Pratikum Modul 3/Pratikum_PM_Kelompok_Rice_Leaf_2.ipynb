{
  "nbformat": 4,
  "nbformat_minor": 0,
  "metadata": {
    "colab": {
      "name": "Pratikum PM Kelompok Rice Leaf 2.ipynb",
      "provenance": [],
      "collapsed_sections": []
    },
    "kernelspec": {
      "name": "python3",
      "display_name": "Python 3"
    },
    "language_info": {
      "name": "python"
    },
    "accelerator": "GPU"
  },
  "cells": [
    {
      "cell_type": "code",
      "metadata": {
        "id": "X9MgnqqMDX_d"
      },
      "source": [
        "#import library \n",
        "import pandas as pd\n",
        "import numpy as np\n",
        "import os, cv2, shutil\n",
        "import numpy as np\n",
        "import matplotlib.pyplot as plt\n",
        "import matplotlib.image as mpimg\n",
        "%matplotlib inline\n",
        "from sklearn.model_selection import train_test_split\n",
        "from sklearn.metrics import classification_report, confusion_matrix\n",
        "from tensorflow.keras.preprocessing.image import ImageDataGenerator\n",
        "from tensorflow.keras.models import Sequential\n",
        "from tensorflow.keras.layers import InputLayer, Dense, Conv2D, MaxPool2D, Flatten,BatchNormalization, Dropout\n",
        "from tensorflow.keras.optimizers import Adam\n",
        "from google.colab import files\n",
        "from keras.preprocessing import image"
      ],
      "execution_count": null,
      "outputs": []
    },
    {
      "cell_type": "code",
      "metadata": {
        "colab": {
          "base_uri": "https://localhost:8080/"
        },
        "id": "Y3I-0flwDji2",
        "outputId": "50f44b17-35e1-4011-a470-a290b7c335ba"
      },
      "source": [
        "from google.colab import drive\n",
        "drive.mount('/content/drive')"
      ],
      "execution_count": null,
      "outputs": [
        {
          "output_type": "stream",
          "name": "stdout",
          "text": [
            "Mounted at /content/drive\n"
          ]
        }
      ]
    },
    {
      "cell_type": "code",
      "metadata": {
        "id": "_0W2nOlVDl1y"
      },
      "source": [
        "# Definisikan path kaggle json\n",
        "# Sesuaikan dengan path anda\n",
        "import os\n",
        "os.environ['KAGGLE_CONFIG_DIR'] = \"/content/drive/My Drive/Pratikum\""
      ],
      "execution_count": null,
      "outputs": []
    },
    {
      "cell_type": "code",
      "metadata": {
        "colab": {
          "base_uri": "https://localhost:8080/"
        },
        "id": "TADNSDbNDlyW",
        "outputId": "525db972-a50c-42f6-a6e0-f4697a52a181"
      },
      "source": [
        "# Ubah lokasi direktori kerja\n",
        "# Sesuaikan dengan path anda\n",
        "%cd /content/drive/My Drive/Pratikum"
      ],
      "execution_count": null,
      "outputs": [
        {
          "output_type": "stream",
          "name": "stdout",
          "text": [
            "/content/drive/My Drive/Pratikum\n"
          ]
        }
      ]
    },
    {
      "cell_type": "code",
      "metadata": {
        "colab": {
          "base_uri": "https://localhost:8080/"
        },
        "id": "reztV98YDlv6",
        "outputId": "5fe45b54-6d93-4887-a36d-4ff748cf6638"
      },
      "source": [
        "# Cek apakah api sudah terbaca oleh sistem\n",
        "!ls"
      ],
      "execution_count": null,
      "outputs": [
        {
          "output_type": "stream",
          "name": "stdout",
          "text": [
            "kaggle.json\n"
          ]
        }
      ]
    },
    {
      "cell_type": "code",
      "metadata": {
        "colab": {
          "base_uri": "https://localhost:8080/"
        },
        "id": "3Swft95CDltg",
        "outputId": "3b4c543b-c5ba-4908-c7df-32c800075657"
      },
      "source": [
        "!kaggle datasets download -d vbookshelf/rice-leaf-diseases"
      ],
      "execution_count": null,
      "outputs": [
        {
          "output_type": "stream",
          "name": "stdout",
          "text": [
            "Downloading rice-leaf-diseases.zip to /content/drive/My Drive/Pratikum\n",
            "100% 36.7M/36.7M [00:00<00:00, 26.1MB/s]\n",
            "\n"
          ]
        }
      ]
    },
    {
      "cell_type": "code",
      "metadata": {
        "colab": {
          "base_uri": "https://localhost:8080/"
        },
        "id": "fOJW4frNDlqy",
        "outputId": "2e7ce2f8-c454-43b7-93b7-0fa0b5f3efbc"
      },
      "source": [
        "# Cek isi direktori kerja dan memastikan dataset telah berhasil didownload.\n",
        "!ls"
      ],
      "execution_count": null,
      "outputs": [
        {
          "output_type": "stream",
          "name": "stdout",
          "text": [
            "kaggle.json  rice-leaf-diseases.zip\n"
          ]
        }
      ]
    },
    {
      "cell_type": "code",
      "metadata": {
        "id": "OE-zsHwrDloa"
      },
      "source": [
        "# Ekstrak file dataset dan hapus file zip dataset agar tidak memakan banyak tempat.\n",
        "!unzip \\*.zip &> /dev/null && rm *.zip"
      ],
      "execution_count": null,
      "outputs": []
    },
    {
      "cell_type": "code",
      "metadata": {
        "colab": {
          "base_uri": "https://localhost:8080/"
        },
        "id": "xcSTPtYQDllz",
        "outputId": "04743d56-1942-41c9-96b5-dd0c1cc4d7bf"
      },
      "source": [
        "!ls"
      ],
      "execution_count": null,
      "outputs": [
        {
          "output_type": "stream",
          "name": "stdout",
          "text": [
            "kaggle.json  rice_leaf_diseases\n"
          ]
        }
      ]
    },
    {
      "cell_type": "code",
      "metadata": {
        "id": "vzBidPE_DljH"
      },
      "source": [
        "!mkdir dataset"
      ],
      "execution_count": null,
      "outputs": []
    },
    {
      "cell_type": "code",
      "metadata": {
        "colab": {
          "base_uri": "https://localhost:8080/"
        },
        "id": "tmHWHP0dDlgV",
        "outputId": "1e4e5002-6166-4c78-df18-fee09b421fee"
      },
      "source": [
        "!ls"
      ],
      "execution_count": null,
      "outputs": [
        {
          "output_type": "stream",
          "name": "stdout",
          "text": [
            "dataset  kaggle.json  rice_leaf_diseases\n"
          ]
        }
      ]
    },
    {
      "cell_type": "code",
      "metadata": {
        "colab": {
          "base_uri": "https://localhost:8080/"
        },
        "id": "fEMsamXZDldx",
        "outputId": "e472e857-1622-4ce4-88b0-1ae724353c12"
      },
      "source": [
        "!pip install split-folders"
      ],
      "execution_count": null,
      "outputs": [
        {
          "output_type": "stream",
          "name": "stdout",
          "text": [
            "Collecting split-folders\n",
            "  Downloading split_folders-0.4.3-py3-none-any.whl (7.4 kB)\n",
            "Installing collected packages: split-folders\n",
            "Successfully installed split-folders-0.4.3\n"
          ]
        }
      ]
    },
    {
      "cell_type": "code",
      "metadata": {
        "colab": {
          "base_uri": "https://localhost:8080/"
        },
        "id": "4a5qA_RADlbG",
        "outputId": "084fd6a3-42af-49e3-aeae-3877aa536abd"
      },
      "source": [
        "import splitfolders\n",
        "\n",
        "\n",
        "base_dir = '/content/drive/MyDrive/Pratikum/rice_leaf_diseases'\n",
        "data_dir = '/content/drive/My Drive/Pratikum/dataset'\n",
        "\n",
        "splitfolders.ratio(base_dir, output=data_dir, seed=1337, ratio=(.8, .19, .01),group_prefix=None)"
      ],
      "execution_count": null,
      "outputs": [
        {
          "output_type": "stream",
          "name": "stderr",
          "text": [
            "Copying files: 120 files [00:02, 50.75 files/s]\n"
          ]
        }
      ]
    },
    {
      "cell_type": "code",
      "metadata": {
        "id": "mJ8tbMtLDlYe"
      },
      "source": [
        "# TULIS KODE ANDA DISINI\n",
        "datagen = ImageDataGenerator(rescale=1./255)"
      ],
      "execution_count": null,
      "outputs": []
    },
    {
      "cell_type": "code",
      "metadata": {
        "colab": {
          "base_uri": "https://localhost:8080/"
        },
        "id": "9qLEJUiNDlVr",
        "outputId": "17c170e5-aad7-4b24-cdef-1bbb443ae911"
      },
      "source": [
        "input_shape = (224, 224)\n",
        "\n",
        "train = '/content/drive/MyDrive/Pratikum/dataset/train'\n",
        "train_generator = datagen.flow_from_directory(train,\n",
        "                                              target_size=input_shape,\n",
        "                                              class_mode='categorical',\n",
        "                                              batch_size=32,\n",
        "                                              color_mode='rgb',\n",
        "                                              shuffle= True)\n",
        "\n",
        "validation = '/content/drive/MyDrive/Pratikum/dataset/val'\n",
        "validation_generator = datagen.flow_from_directory(validation,\n",
        "                                              target_size=input_shape,\n",
        "                                              class_mode='categorical',\n",
        "                                              batch_size=32,\n",
        "                                              color_mode='rgb',\n",
        "                                              shuffle= True)\n",
        "\n",
        "test = '/content/drive/MyDrive/Pratikum/dataset/test'\n",
        "test_generator = datagen.flow_from_directory(test,\n",
        "                                              target_size=input_shape,\n",
        "                                              batch_size=32,\n",
        "                                              color_mode='rgb',\n",
        "                                              shuffle= False)"
      ],
      "execution_count": null,
      "outputs": [
        {
          "output_type": "stream",
          "name": "stdout",
          "text": [
            "Found 96 images belonging to 3 classes.\n",
            "Found 21 images belonging to 3 classes.\n",
            "Found 3 images belonging to 3 classes.\n"
          ]
        }
      ]
    },
    {
      "cell_type": "code",
      "metadata": {
        "id": "MJ30QN52DlNs"
      },
      "source": [
        "from tensorflow.keras.models import Sequential, load_model\n",
        "from tensorflow.keras.layers import InputLayer, Dense, Conv2D, MaxPooling2D, Flatten, BatchNormalization, Dropout, GlobalMaxPooling2D, BatchNormalization, AveragePooling2D, GlobalAveragePooling2D"
      ],
      "execution_count": null,
      "outputs": []
    },
    {
      "cell_type": "code",
      "metadata": {
        "id": "sM-HO2AXEObr"
      },
      "source": [
        "# Model building\n",
        "#Instatiating A convnet\n",
        "\n",
        "model = Sequential()\n",
        "\n",
        "model.add(InputLayer(input_shape=[224, 224, 3]))\n",
        "model.add(Conv2D(filters=1, kernel_size=3, strides=1, padding='same', activation='relu'))\n",
        "model.add(MaxPooling2D(pool_size = (3,3), strides=2))\n",
        "\n",
        "\n",
        "model.add(Conv2D(filters=3, kernel_size=3, strides=1, padding='same', activation='relu'))\n",
        "model.add(MaxPooling2D(pool_size = (3,3), strides=2))\n",
        "\n",
        "model.add(Conv2D(filters=1, kernel_size=3, strides=1, padding='same', activation='relu'))\n",
        "model.add(MaxPooling2D(pool_size = (3,3), strides=2))\n",
        "model.add(BatchNormalization())\n",
        "\n",
        "model.add(Dropout(0.4))\n",
        "model.add(Flatten())\n",
        "\n",
        "# Fully Connected Layer\n",
        "model.add(Dense(1024,activation=\"softmax\"))\n",
        "model.add(Dense(512,activation=\"softmax\"))\n",
        "model.add(Dense(3, activation=\"softmax\"))"
      ],
      "execution_count": null,
      "outputs": []
    },
    {
      "cell_type": "code",
      "metadata": {
        "id": "dis-rnlLhZ7U"
      },
      "source": [
        "model2 = Sequential()\n",
        "model2.add(Conv2D(16, (3,3), input_shape=(224,224,3), activation=\"relu\"))\n",
        "model2.add(MaxPooling2D(pool_size = (2,2)))\n",
        "model2.add(Conv2D(32, (3,3), activation=\"relu\"))\n",
        "model2.add(MaxPooling2D(pool_size = (2,2)))\n",
        "model2.add(Conv2D(64, (3,3), activation=\"relu\"))\n",
        "model2.add(MaxPooling2D(pool_size = (2,2)))\n",
        "model2.add(Flatten())\n",
        "model2.add(Dropout(0.2))\n",
        "model2.add(Dense(128,activation=\"relu\"))\n",
        "model2.add(Dropout(0.2))\n",
        "model2.add(Dense(3, activation=\"softmax\"))"
      ],
      "execution_count": null,
      "outputs": []
    },
    {
      "cell_type": "code",
      "metadata": {
        "colab": {
          "base_uri": "https://localhost:8080/"
        },
        "id": "VzH6614MEOYE",
        "outputId": "8b686c38-cf91-4d07-dd49-2c9e1bea7fe6"
      },
      "source": [
        "print(model.summary())"
      ],
      "execution_count": null,
      "outputs": [
        {
          "output_type": "stream",
          "name": "stdout",
          "text": [
            "Model: \"sequential\"\n",
            "_________________________________________________________________\n",
            " Layer (type)                Output Shape              Param #   \n",
            "=================================================================\n",
            " conv2d (Conv2D)             (None, 224, 224, 1)       28        \n",
            "                                                                 \n",
            " max_pooling2d (MaxPooling2D  (None, 111, 111, 1)      0         \n",
            " )                                                               \n",
            "                                                                 \n",
            " conv2d_1 (Conv2D)           (None, 111, 111, 3)       30        \n",
            "                                                                 \n",
            " max_pooling2d_1 (MaxPooling  (None, 55, 55, 3)        0         \n",
            " 2D)                                                             \n",
            "                                                                 \n",
            " conv2d_2 (Conv2D)           (None, 55, 55, 1)         28        \n",
            "                                                                 \n",
            " max_pooling2d_2 (MaxPooling  (None, 27, 27, 1)        0         \n",
            " 2D)                                                             \n",
            "                                                                 \n",
            " batch_normalization (BatchN  (None, 27, 27, 1)        4         \n",
            " ormalization)                                                   \n",
            "                                                                 \n",
            " dropout (Dropout)           (None, 27, 27, 1)         0         \n",
            "                                                                 \n",
            " flatten (Flatten)           (None, 729)               0         \n",
            "                                                                 \n",
            " dense (Dense)               (None, 1024)              747520    \n",
            "                                                                 \n",
            " dense_1 (Dense)             (None, 512)               524800    \n",
            "                                                                 \n",
            " dense_2 (Dense)             (None, 3)                 1539      \n",
            "                                                                 \n",
            "=================================================================\n",
            "Total params: 1,273,949\n",
            "Trainable params: 1,273,947\n",
            "Non-trainable params: 2\n",
            "_________________________________________________________________\n",
            "None\n"
          ]
        }
      ]
    },
    {
      "cell_type": "code",
      "metadata": {
        "colab": {
          "base_uri": "https://localhost:8080/"
        },
        "id": "m3efsT5XiHxK",
        "outputId": "cac1ac47-5cbd-4bb6-b99b-cd9dd4ac7d6a"
      },
      "source": [
        "print(model2.summary())"
      ],
      "execution_count": null,
      "outputs": [
        {
          "output_type": "stream",
          "name": "stdout",
          "text": [
            "Model: \"sequential_3\"\n",
            "_________________________________________________________________\n",
            " Layer (type)                Output Shape              Param #   \n",
            "=================================================================\n",
            " conv2d_9 (Conv2D)           (None, 222, 222, 16)      448       \n",
            "                                                                 \n",
            " max_pooling2d_6 (MaxPooling  (None, 111, 111, 16)     0         \n",
            " 2D)                                                             \n",
            "                                                                 \n",
            " conv2d_10 (Conv2D)          (None, 109, 109, 32)      4640      \n",
            "                                                                 \n",
            " max_pooling2d_7 (MaxPooling  (None, 54, 54, 32)       0         \n",
            " 2D)                                                             \n",
            "                                                                 \n",
            " conv2d_11 (Conv2D)          (None, 52, 52, 64)        18496     \n",
            "                                                                 \n",
            " max_pooling2d_8 (MaxPooling  (None, 26, 26, 64)       0         \n",
            " 2D)                                                             \n",
            "                                                                 \n",
            " flatten_3 (Flatten)         (None, 43264)             0         \n",
            "                                                                 \n",
            " dropout_4 (Dropout)         (None, 43264)             0         \n",
            "                                                                 \n",
            " dense_8 (Dense)             (None, 128)               5537920   \n",
            "                                                                 \n",
            " dropout_5 (Dropout)         (None, 128)               0         \n",
            "                                                                 \n",
            " dense_9 (Dense)             (None, 3)                 387       \n",
            "                                                                 \n",
            "=================================================================\n",
            "Total params: 5,561,891\n",
            "Trainable params: 5,561,891\n",
            "Non-trainable params: 0\n",
            "_________________________________________________________________\n",
            "None\n"
          ]
        }
      ]
    },
    {
      "cell_type": "code",
      "metadata": {
        "colab": {
          "base_uri": "https://localhost:8080/"
        },
        "id": "n-Far3dEEOVi",
        "outputId": "559b4315-aa3d-40d6-9832-68e9b1878dd8"
      },
      "source": [
        "from tensorflow.keras.optimizers import Adam\n",
        "\n",
        "model.compile(optimizer=Adam(lr=0.01), \n",
        "              loss='categorical_crossentropy', \n",
        "              metrics=['acc'])"
      ],
      "execution_count": null,
      "outputs": [
        {
          "output_type": "stream",
          "name": "stderr",
          "text": [
            "/usr/local/lib/python3.7/dist-packages/keras/optimizer_v2/adam.py:105: UserWarning: The `lr` argument is deprecated, use `learning_rate` instead.\n",
            "  super(Adam, self).__init__(name, **kwargs)\n"
          ]
        }
      ]
    },
    {
      "cell_type": "code",
      "metadata": {
        "colab": {
          "base_uri": "https://localhost:8080/"
        },
        "id": "Yt3ryNhNiVk_",
        "outputId": "d50632c0-ddeb-40bf-f71c-6ce95525f604"
      },
      "source": [
        "from tensorflow.keras.optimizers import Adam\n",
        "\n",
        "model2.compile(optimizer=Adam(lr=0.00001), \n",
        "              loss='categorical_crossentropy', \n",
        "              metrics=['acc'])"
      ],
      "execution_count": null,
      "outputs": [
        {
          "output_type": "stream",
          "name": "stderr",
          "text": [
            "/usr/local/lib/python3.7/dist-packages/keras/optimizer_v2/adam.py:105: UserWarning: The `lr` argument is deprecated, use `learning_rate` instead.\n",
            "  super(Adam, self).__init__(name, **kwargs)\n"
          ]
        }
      ]
    },
    {
      "cell_type": "code",
      "metadata": {
        "colab": {
          "base_uri": "https://localhost:8080/"
        },
        "id": "4_hf-v-MEce7",
        "outputId": "c65d8390-d34e-43fc-d248-d7a8215b2506"
      },
      "source": [
        "H = model.fit_generator(train_generator, epochs = 100, validation_data = validation_generator)"
      ],
      "execution_count": null,
      "outputs": [
        {
          "output_type": "stream",
          "name": "stderr",
          "text": [
            "/usr/local/lib/python3.7/dist-packages/ipykernel_launcher.py:1: UserWarning: `Model.fit_generator` is deprecated and will be removed in a future version. Please use `Model.fit`, which supports generators.\n",
            "  \"\"\"Entry point for launching an IPython kernel.\n"
          ]
        },
        {
          "output_type": "stream",
          "name": "stdout",
          "text": [
            "Epoch 1/100\n",
            "3/3 [==============================] - 43s 6s/step - loss: 1.1018 - acc: 0.2500 - val_loss: 1.0990 - val_acc: 0.3333\n",
            "Epoch 2/100\n",
            "3/3 [==============================] - 4s 1s/step - loss: 1.0992 - acc: 0.3021 - val_loss: 1.0989 - val_acc: 0.3333\n",
            "Epoch 3/100\n",
            "3/3 [==============================] - 4s 1s/step - loss: 1.0990 - acc: 0.2917 - val_loss: 1.0987 - val_acc: 0.3333\n",
            "Epoch 4/100\n",
            "3/3 [==============================] - 4s 1s/step - loss: 1.1000 - acc: 0.3333 - val_loss: 1.0986 - val_acc: 0.3333\n",
            "Epoch 5/100\n",
            "3/3 [==============================] - 4s 1s/step - loss: 1.0990 - acc: 0.3021 - val_loss: 1.0986 - val_acc: 0.3333\n",
            "Epoch 6/100\n",
            "3/3 [==============================] - 4s 1s/step - loss: 1.0992 - acc: 0.3333 - val_loss: 1.0986 - val_acc: 0.3333\n",
            "Epoch 7/100\n",
            "3/3 [==============================] - 4s 1s/step - loss: 1.0989 - acc: 0.2917 - val_loss: 1.0986 - val_acc: 0.3333\n",
            "Epoch 8/100\n",
            "3/3 [==============================] - 4s 1s/step - loss: 1.0992 - acc: 0.3333 - val_loss: 1.0987 - val_acc: 0.3333\n",
            "Epoch 9/100\n",
            "3/3 [==============================] - 5s 2s/step - loss: 1.0988 - acc: 0.3333 - val_loss: 1.0987 - val_acc: 0.3333\n",
            "Epoch 10/100\n",
            "3/3 [==============================] - 4s 1s/step - loss: 1.0979 - acc: 0.3333 - val_loss: 1.0987 - val_acc: 0.3333\n",
            "Epoch 11/100\n",
            "3/3 [==============================] - 4s 1s/step - loss: 1.0972 - acc: 0.3333 - val_loss: 1.0988 - val_acc: 0.3333\n",
            "Epoch 12/100\n",
            "3/3 [==============================] - 4s 1s/step - loss: 1.0963 - acc: 0.5521 - val_loss: 1.0990 - val_acc: 0.3333\n",
            "Epoch 13/100\n",
            "3/3 [==============================] - 4s 1s/step - loss: 1.0957 - acc: 0.6562 - val_loss: 1.0990 - val_acc: 0.3810\n",
            "Epoch 14/100\n",
            "3/3 [==============================] - 4s 1s/step - loss: 1.0941 - acc: 0.6875 - val_loss: 1.0989 - val_acc: 0.3333\n",
            "Epoch 15/100\n",
            "3/3 [==============================] - 4s 1s/step - loss: 1.0925 - acc: 0.6979 - val_loss: 1.0991 - val_acc: 0.3333\n",
            "Epoch 16/100\n",
            "3/3 [==============================] - 4s 1s/step - loss: 1.0898 - acc: 0.6979 - val_loss: 1.0991 - val_acc: 0.3333\n",
            "Epoch 17/100\n",
            "3/3 [==============================] - 4s 1s/step - loss: 1.0869 - acc: 0.7083 - val_loss: 1.0994 - val_acc: 0.3333\n",
            "Epoch 18/100\n",
            "3/3 [==============================] - 4s 1s/step - loss: 1.0839 - acc: 0.7083 - val_loss: 1.0985 - val_acc: 0.2857\n",
            "Epoch 19/100\n",
            "3/3 [==============================] - 4s 1s/step - loss: 1.0786 - acc: 0.7292 - val_loss: 1.0962 - val_acc: 0.4762\n",
            "Epoch 20/100\n",
            "3/3 [==============================] - 4s 1s/step - loss: 1.0692 - acc: 0.7708 - val_loss: 1.0897 - val_acc: 0.4762\n",
            "Epoch 21/100\n",
            "3/3 [==============================] - 4s 1s/step - loss: 1.0618 - acc: 0.7604 - val_loss: 1.0957 - val_acc: 0.3333\n",
            "Epoch 22/100\n",
            "3/3 [==============================] - 4s 1s/step - loss: 1.0520 - acc: 0.7604 - val_loss: 1.1024 - val_acc: 0.3333\n",
            "Epoch 23/100\n",
            "3/3 [==============================] - 4s 1s/step - loss: 1.0401 - acc: 0.7604 - val_loss: 1.1011 - val_acc: 0.2381\n",
            "Epoch 24/100\n",
            "3/3 [==============================] - 4s 1s/step - loss: 1.0509 - acc: 0.6354 - val_loss: 1.1019 - val_acc: 0.3333\n",
            "Epoch 25/100\n",
            "3/3 [==============================] - 4s 1s/step - loss: 1.0190 - acc: 0.7292 - val_loss: 1.1096 - val_acc: 0.3333\n",
            "Epoch 26/100\n",
            "3/3 [==============================] - 4s 1s/step - loss: 1.0064 - acc: 0.7188 - val_loss: 1.1172 - val_acc: 0.3333\n",
            "Epoch 27/100\n",
            "3/3 [==============================] - 4s 1s/step - loss: 0.9909 - acc: 0.7292 - val_loss: 1.1078 - val_acc: 0.3810\n",
            "Epoch 28/100\n",
            "3/3 [==============================] - 4s 1s/step - loss: 0.9811 - acc: 0.7188 - val_loss: 1.0912 - val_acc: 0.3810\n",
            "Epoch 29/100\n",
            "3/3 [==============================] - 4s 1s/step - loss: 0.9996 - acc: 0.6250 - val_loss: 1.0938 - val_acc: 0.3810\n",
            "Epoch 30/100\n",
            "3/3 [==============================] - 4s 1s/step - loss: 0.9937 - acc: 0.6458 - val_loss: 1.1256 - val_acc: 0.3333\n",
            "Epoch 31/100\n",
            "3/3 [==============================] - 4s 1s/step - loss: 0.9604 - acc: 0.7083 - val_loss: 1.1301 - val_acc: 0.3333\n",
            "Epoch 32/100\n",
            "3/3 [==============================] - 4s 1s/step - loss: 1.0115 - acc: 0.5729 - val_loss: 1.1347 - val_acc: 0.3333\n",
            "Epoch 33/100\n",
            "3/3 [==============================] - 4s 1s/step - loss: 1.0169 - acc: 0.5625 - val_loss: 1.1367 - val_acc: 0.3333\n",
            "Epoch 34/100\n",
            "3/3 [==============================] - 4s 1s/step - loss: 1.0146 - acc: 0.6042 - val_loss: 1.1392 - val_acc: 0.3333\n",
            "Epoch 35/100\n",
            "3/3 [==============================] - 4s 1s/step - loss: 0.9826 - acc: 0.6042 - val_loss: 1.1427 - val_acc: 0.3333\n",
            "Epoch 36/100\n",
            "3/3 [==============================] - 4s 1s/step - loss: 0.9185 - acc: 0.6979 - val_loss: 1.1504 - val_acc: 0.3333\n",
            "Epoch 37/100\n",
            "3/3 [==============================] - 4s 1s/step - loss: 0.9052 - acc: 0.6771 - val_loss: 1.1617 - val_acc: 0.3333\n",
            "Epoch 38/100\n",
            "3/3 [==============================] - 4s 1s/step - loss: 0.8418 - acc: 0.7708 - val_loss: 1.1441 - val_acc: 0.3810\n",
            "Epoch 39/100\n",
            "3/3 [==============================] - 4s 1s/step - loss: 0.8758 - acc: 0.6979 - val_loss: 1.1249 - val_acc: 0.3333\n",
            "Epoch 40/100\n",
            "3/3 [==============================] - 4s 1s/step - loss: 0.9008 - acc: 0.6771 - val_loss: 1.2208 - val_acc: 0.2381\n",
            "Epoch 41/100\n",
            "3/3 [==============================] - 4s 1s/step - loss: 0.8965 - acc: 0.6562 - val_loss: 1.2375 - val_acc: 0.3333\n",
            "Epoch 42/100\n",
            "3/3 [==============================] - 4s 1s/step - loss: 0.9241 - acc: 0.6146 - val_loss: 1.1888 - val_acc: 0.3810\n",
            "Epoch 43/100\n",
            "3/3 [==============================] - 4s 1s/step - loss: 0.8362 - acc: 0.6979 - val_loss: 1.1063 - val_acc: 0.4286\n",
            "Epoch 44/100\n",
            "3/3 [==============================] - 4s 1s/step - loss: 0.7612 - acc: 0.7708 - val_loss: 1.1966 - val_acc: 0.3333\n",
            "Epoch 45/100\n",
            "3/3 [==============================] - 4s 1s/step - loss: 0.8559 - acc: 0.6771 - val_loss: 1.2010 - val_acc: 0.3333\n",
            "Epoch 46/100\n",
            "3/3 [==============================] - 4s 1s/step - loss: 0.9308 - acc: 0.5833 - val_loss: 1.2018 - val_acc: 0.3333\n",
            "Epoch 47/100\n",
            "3/3 [==============================] - 4s 2s/step - loss: 0.7870 - acc: 0.7188 - val_loss: 1.2022 - val_acc: 0.3333\n",
            "Epoch 48/100\n",
            "3/3 [==============================] - 4s 1s/step - loss: 0.7850 - acc: 0.7292 - val_loss: 1.0323 - val_acc: 0.5238\n",
            "Epoch 49/100\n",
            "3/3 [==============================] - 4s 1s/step - loss: 0.7266 - acc: 0.7708 - val_loss: 0.9626 - val_acc: 0.5238\n",
            "Epoch 50/100\n",
            "3/3 [==============================] - 4s 1s/step - loss: 0.7238 - acc: 0.7812 - val_loss: 0.9930 - val_acc: 0.4762\n",
            "Epoch 51/100\n",
            "3/3 [==============================] - 4s 1s/step - loss: 0.7019 - acc: 0.8021 - val_loss: 1.1073 - val_acc: 0.3810\n",
            "Epoch 52/100\n",
            "3/3 [==============================] - 4s 1s/step - loss: 0.7600 - acc: 0.6979 - val_loss: 1.0241 - val_acc: 0.4286\n",
            "Epoch 53/100\n",
            "3/3 [==============================] - 4s 1s/step - loss: 0.7444 - acc: 0.7083 - val_loss: 1.0677 - val_acc: 0.4286\n",
            "Epoch 54/100\n",
            "3/3 [==============================] - 4s 1s/step - loss: 0.6514 - acc: 0.7917 - val_loss: 1.3190 - val_acc: 0.3333\n",
            "Epoch 55/100\n",
            "3/3 [==============================] - 4s 1s/step - loss: 0.6206 - acc: 0.8229 - val_loss: 0.8914 - val_acc: 0.5714\n",
            "Epoch 56/100\n",
            "3/3 [==============================] - 4s 2s/step - loss: 0.7470 - acc: 0.7188 - val_loss: 0.8445 - val_acc: 0.5714\n",
            "Epoch 57/100\n",
            "3/3 [==============================] - 4s 1s/step - loss: 0.6735 - acc: 0.7812 - val_loss: 1.3987 - val_acc: 0.3333\n",
            "Epoch 58/100\n",
            "3/3 [==============================] - 4s 1s/step - loss: 0.6789 - acc: 0.7500 - val_loss: 1.4284 - val_acc: 0.3333\n",
            "Epoch 59/100\n",
            "3/3 [==============================] - 4s 1s/step - loss: 0.7201 - acc: 0.7292 - val_loss: 1.4356 - val_acc: 0.3333\n",
            "Epoch 60/100\n",
            "3/3 [==============================] - 4s 1s/step - loss: 0.6282 - acc: 0.8021 - val_loss: 1.4324 - val_acc: 0.3333\n",
            "Epoch 61/100\n",
            "3/3 [==============================] - 4s 1s/step - loss: 0.5918 - acc: 0.8229 - val_loss: 1.4304 - val_acc: 0.3333\n",
            "Epoch 62/100\n",
            "3/3 [==============================] - 4s 1s/step - loss: 0.6568 - acc: 0.7812 - val_loss: 1.4290 - val_acc: 0.3333\n",
            "Epoch 63/100\n",
            "3/3 [==============================] - 4s 1s/step - loss: 0.7789 - acc: 0.7083 - val_loss: 1.4131 - val_acc: 0.3333\n",
            "Epoch 64/100\n",
            "3/3 [==============================] - 4s 1s/step - loss: 0.6680 - acc: 0.7396 - val_loss: 1.3272 - val_acc: 0.2857\n",
            "Epoch 65/100\n",
            "3/3 [==============================] - 4s 1s/step - loss: 0.6018 - acc: 0.7708 - val_loss: 1.0025 - val_acc: 0.4286\n",
            "Epoch 66/100\n",
            "3/3 [==============================] - 4s 1s/step - loss: 0.5885 - acc: 0.7812 - val_loss: 0.7795 - val_acc: 0.6190\n",
            "Epoch 67/100\n",
            "3/3 [==============================] - 4s 1s/step - loss: 0.5524 - acc: 0.8125 - val_loss: 0.7855 - val_acc: 0.6190\n",
            "Epoch 68/100\n",
            "3/3 [==============================] - 4s 1s/step - loss: 0.5178 - acc: 0.8542 - val_loss: 0.8200 - val_acc: 0.6190\n",
            "Epoch 69/100\n",
            "3/3 [==============================] - 4s 1s/step - loss: 0.5186 - acc: 0.8542 - val_loss: 0.9663 - val_acc: 0.5714\n",
            "Epoch 70/100\n",
            "3/3 [==============================] - 4s 1s/step - loss: 0.4886 - acc: 0.8646 - val_loss: 1.0159 - val_acc: 0.5238\n",
            "Epoch 71/100\n",
            "3/3 [==============================] - 4s 1s/step - loss: 0.5516 - acc: 0.8229 - val_loss: 0.8919 - val_acc: 0.5714\n",
            "Epoch 72/100\n",
            "3/3 [==============================] - 4s 1s/step - loss: 0.4346 - acc: 0.8854 - val_loss: 0.9343 - val_acc: 0.5238\n",
            "Epoch 73/100\n",
            "3/3 [==============================] - 4s 1s/step - loss: 0.5111 - acc: 0.8333 - val_loss: 1.4324 - val_acc: 0.3810\n",
            "Epoch 74/100\n",
            "3/3 [==============================] - 4s 1s/step - loss: 0.6071 - acc: 0.7812 - val_loss: 1.4967 - val_acc: 0.3333\n",
            "Epoch 75/100\n",
            "3/3 [==============================] - 4s 2s/step - loss: 0.5920 - acc: 0.7917 - val_loss: 1.5666 - val_acc: 0.2857\n",
            "Epoch 76/100\n",
            "3/3 [==============================] - 4s 2s/step - loss: 0.8325 - acc: 0.6562 - val_loss: 1.5469 - val_acc: 0.2857\n",
            "Epoch 77/100\n",
            "3/3 [==============================] - 4s 1s/step - loss: 0.7384 - acc: 0.7083 - val_loss: 1.3018 - val_acc: 0.2381\n",
            "Epoch 78/100\n",
            "3/3 [==============================] - 4s 1s/step - loss: 0.6586 - acc: 0.7292 - val_loss: 1.1595 - val_acc: 0.4762\n",
            "Epoch 79/100\n",
            "3/3 [==============================] - 4s 1s/step - loss: 0.5526 - acc: 0.7917 - val_loss: 0.9271 - val_acc: 0.5714\n",
            "Epoch 80/100\n",
            "3/3 [==============================] - 4s 1s/step - loss: 0.4625 - acc: 0.8542 - val_loss: 0.7906 - val_acc: 0.6190\n",
            "Epoch 81/100\n",
            "3/3 [==============================] - 4s 1s/step - loss: 0.4818 - acc: 0.8438 - val_loss: 1.1875 - val_acc: 0.5238\n",
            "Epoch 82/100\n",
            "3/3 [==============================] - 4s 1s/step - loss: 0.4297 - acc: 0.8750 - val_loss: 1.2979 - val_acc: 0.4762\n",
            "Epoch 83/100\n",
            "3/3 [==============================] - 4s 1s/step - loss: 0.4061 - acc: 0.8958 - val_loss: 1.4156 - val_acc: 0.4286\n",
            "Epoch 84/100\n",
            "3/3 [==============================] - 4s 1s/step - loss: 0.4353 - acc: 0.8750 - val_loss: 1.6116 - val_acc: 0.4762\n",
            "Epoch 85/100\n",
            "3/3 [==============================] - 4s 1s/step - loss: 0.4661 - acc: 0.8542 - val_loss: 1.6265 - val_acc: 0.4762\n",
            "Epoch 86/100\n",
            "3/3 [==============================] - 4s 1s/step - loss: 0.4747 - acc: 0.8542 - val_loss: 1.5243 - val_acc: 0.4762\n",
            "Epoch 87/100\n",
            "3/3 [==============================] - 4s 1s/step - loss: 0.5681 - acc: 0.7917 - val_loss: 1.2235 - val_acc: 0.5238\n",
            "Epoch 88/100\n",
            "3/3 [==============================] - 4s 1s/step - loss: 0.3946 - acc: 0.9062 - val_loss: 1.0719 - val_acc: 0.5714\n",
            "Epoch 89/100\n",
            "3/3 [==============================] - 4s 1s/step - loss: 0.5183 - acc: 0.8333 - val_loss: 1.6257 - val_acc: 0.3810\n",
            "Epoch 90/100\n",
            "3/3 [==============================] - 4s 1s/step - loss: 0.5885 - acc: 0.8125 - val_loss: 1.4629 - val_acc: 0.3810\n",
            "Epoch 91/100\n",
            "3/3 [==============================] - 4s 1s/step - loss: 0.4852 - acc: 0.8438 - val_loss: 1.1427 - val_acc: 0.5238\n",
            "Epoch 92/100\n",
            "3/3 [==============================] - 4s 1s/step - loss: 0.4915 - acc: 0.8438 - val_loss: 0.7607 - val_acc: 0.6667\n",
            "Epoch 93/100\n",
            "3/3 [==============================] - 4s 1s/step - loss: 0.5020 - acc: 0.8229 - val_loss: 0.8278 - val_acc: 0.6667\n",
            "Epoch 94/100\n",
            "3/3 [==============================] - 4s 1s/step - loss: 0.5040 - acc: 0.8229 - val_loss: 0.8208 - val_acc: 0.6667\n",
            "Epoch 95/100\n",
            "3/3 [==============================] - 4s 1s/step - loss: 0.4538 - acc: 0.8646 - val_loss: 0.7818 - val_acc: 0.6667\n",
            "Epoch 96/100\n",
            "3/3 [==============================] - 4s 1s/step - loss: 0.4659 - acc: 0.8542 - val_loss: 0.8504 - val_acc: 0.5714\n",
            "Epoch 97/100\n",
            "3/3 [==============================] - 4s 2s/step - loss: 0.4323 - acc: 0.8646 - val_loss: 0.6769 - val_acc: 0.7143\n",
            "Epoch 98/100\n",
            "3/3 [==============================] - 4s 1s/step - loss: 0.4059 - acc: 0.8750 - val_loss: 0.7822 - val_acc: 0.6667\n",
            "Epoch 99/100\n",
            "3/3 [==============================] - 4s 1s/step - loss: 0.4321 - acc: 0.8646 - val_loss: 0.8101 - val_acc: 0.6190\n",
            "Epoch 100/100\n",
            "3/3 [==============================] - 4s 1s/step - loss: 0.3727 - acc: 0.8854 - val_loss: 1.1203 - val_acc: 0.5714\n"
          ]
        }
      ]
    },
    {
      "cell_type": "code",
      "metadata": {
        "colab": {
          "base_uri": "https://localhost:8080/"
        },
        "id": "rT_6jpvXhYp9",
        "outputId": "457b64e5-79cc-4537-c1e3-2e276533d1c3"
      },
      "source": [
        "H2 = model2.fit_generator(train_generator, epochs = 100, validation_data = validation_generator)"
      ],
      "execution_count": null,
      "outputs": [
        {
          "output_type": "stream",
          "name": "stderr",
          "text": [
            "/usr/local/lib/python3.7/dist-packages/ipykernel_launcher.py:1: UserWarning: `Model.fit_generator` is deprecated and will be removed in a future version. Please use `Model.fit`, which supports generators.\n",
            "  \"\"\"Entry point for launching an IPython kernel.\n"
          ]
        },
        {
          "output_type": "stream",
          "name": "stdout",
          "text": [
            "Epoch 1/100\n",
            "3/3 [==============================] - 6s 2s/step - loss: 1.1032 - acc: 0.3333 - val_loss: 1.0992 - val_acc: 0.3810\n",
            "Epoch 2/100\n",
            "3/3 [==============================] - 4s 1s/step - loss: 1.0839 - acc: 0.3750 - val_loss: 1.0978 - val_acc: 0.3333\n",
            "Epoch 3/100\n",
            "3/3 [==============================] - 4s 1s/step - loss: 1.0972 - acc: 0.3646 - val_loss: 1.0981 - val_acc: 0.3333\n",
            "Epoch 4/100\n",
            "3/3 [==============================] - 4s 1s/step - loss: 1.0835 - acc: 0.4167 - val_loss: 1.0978 - val_acc: 0.3333\n",
            "Epoch 5/100\n",
            "3/3 [==============================] - 4s 1s/step - loss: 1.0746 - acc: 0.4896 - val_loss: 1.0972 - val_acc: 0.3810\n",
            "Epoch 6/100\n",
            "3/3 [==============================] - 4s 1s/step - loss: 1.0845 - acc: 0.3958 - val_loss: 1.0983 - val_acc: 0.3810\n",
            "Epoch 7/100\n",
            "3/3 [==============================] - 4s 1s/step - loss: 1.0733 - acc: 0.4896 - val_loss: 1.0997 - val_acc: 0.3810\n",
            "Epoch 8/100\n",
            "3/3 [==============================] - 4s 1s/step - loss: 1.0620 - acc: 0.5208 - val_loss: 1.0997 - val_acc: 0.3333\n",
            "Epoch 9/100\n",
            "3/3 [==============================] - 4s 1s/step - loss: 1.0442 - acc: 0.5625 - val_loss: 1.1002 - val_acc: 0.3810\n",
            "Epoch 10/100\n",
            "3/3 [==============================] - 4s 1s/step - loss: 1.0644 - acc: 0.4583 - val_loss: 1.1011 - val_acc: 0.3810\n",
            "Epoch 11/100\n",
            "3/3 [==============================] - 4s 1s/step - loss: 1.0185 - acc: 0.6875 - val_loss: 1.1000 - val_acc: 0.3333\n",
            "Epoch 12/100\n",
            "3/3 [==============================] - 4s 1s/step - loss: 1.0253 - acc: 0.5938 - val_loss: 1.1004 - val_acc: 0.3333\n",
            "Epoch 13/100\n",
            "3/3 [==============================] - 4s 1s/step - loss: 1.0449 - acc: 0.4688 - val_loss: 1.1002 - val_acc: 0.3333\n",
            "Epoch 14/100\n",
            "3/3 [==============================] - 4s 1s/step - loss: 1.0372 - acc: 0.5938 - val_loss: 1.1019 - val_acc: 0.3333\n",
            "Epoch 15/100\n",
            "3/3 [==============================] - 4s 1s/step - loss: 1.0233 - acc: 0.5521 - val_loss: 1.1014 - val_acc: 0.3333\n",
            "Epoch 16/100\n",
            "3/3 [==============================] - 4s 1s/step - loss: 1.0274 - acc: 0.5417 - val_loss: 1.1010 - val_acc: 0.3333\n",
            "Epoch 17/100\n",
            "3/3 [==============================] - 4s 1s/step - loss: 1.0180 - acc: 0.5521 - val_loss: 1.1003 - val_acc: 0.3333\n",
            "Epoch 18/100\n",
            "3/3 [==============================] - 4s 1s/step - loss: 1.0063 - acc: 0.6042 - val_loss: 1.0999 - val_acc: 0.3333\n",
            "Epoch 19/100\n",
            "3/3 [==============================] - 4s 1s/step - loss: 0.9896 - acc: 0.5833 - val_loss: 1.1017 - val_acc: 0.3333\n",
            "Epoch 20/100\n",
            "3/3 [==============================] - 4s 2s/step - loss: 0.9926 - acc: 0.6354 - val_loss: 1.1044 - val_acc: 0.4286\n",
            "Epoch 21/100\n",
            "3/3 [==============================] - 4s 2s/step - loss: 0.9910 - acc: 0.6146 - val_loss: 1.1049 - val_acc: 0.3810\n",
            "Epoch 22/100\n",
            "3/3 [==============================] - 4s 2s/step - loss: 0.9884 - acc: 0.6354 - val_loss: 1.1058 - val_acc: 0.4286\n",
            "Epoch 23/100\n",
            "3/3 [==============================] - 4s 1s/step - loss: 0.9624 - acc: 0.6354 - val_loss: 1.1053 - val_acc: 0.4286\n",
            "Epoch 24/100\n",
            "3/3 [==============================] - 4s 1s/step - loss: 0.9551 - acc: 0.6667 - val_loss: 1.1053 - val_acc: 0.3810\n",
            "Epoch 25/100\n",
            "3/3 [==============================] - 4s 1s/step - loss: 0.9414 - acc: 0.6562 - val_loss: 1.1046 - val_acc: 0.3810\n",
            "Epoch 26/100\n",
            "3/3 [==============================] - 4s 1s/step - loss: 0.9422 - acc: 0.6354 - val_loss: 1.1036 - val_acc: 0.3810\n",
            "Epoch 27/100\n",
            "3/3 [==============================] - 4s 1s/step - loss: 0.9288 - acc: 0.6771 - val_loss: 1.1035 - val_acc: 0.3810\n",
            "Epoch 28/100\n",
            "3/3 [==============================] - 4s 2s/step - loss: 0.9072 - acc: 0.6458 - val_loss: 1.1061 - val_acc: 0.3810\n",
            "Epoch 29/100\n",
            "3/3 [==============================] - 4s 1s/step - loss: 0.9046 - acc: 0.6979 - val_loss: 1.1051 - val_acc: 0.3810\n",
            "Epoch 30/100\n",
            "3/3 [==============================] - 4s 1s/step - loss: 0.9060 - acc: 0.6458 - val_loss: 1.1067 - val_acc: 0.3810\n",
            "Epoch 31/100\n",
            "3/3 [==============================] - 4s 2s/step - loss: 0.8951 - acc: 0.6458 - val_loss: 1.1066 - val_acc: 0.3810\n",
            "Epoch 32/100\n",
            "3/3 [==============================] - 4s 1s/step - loss: 0.9007 - acc: 0.6250 - val_loss: 1.1059 - val_acc: 0.3810\n",
            "Epoch 33/100\n",
            "3/3 [==============================] - 4s 2s/step - loss: 0.8858 - acc: 0.6562 - val_loss: 1.1094 - val_acc: 0.3810\n",
            "Epoch 34/100\n",
            "3/3 [==============================] - 4s 1s/step - loss: 0.8748 - acc: 0.6354 - val_loss: 1.1121 - val_acc: 0.3810\n",
            "Epoch 35/100\n",
            "3/3 [==============================] - 4s 2s/step - loss: 0.8809 - acc: 0.7188 - val_loss: 1.1133 - val_acc: 0.3810\n",
            "Epoch 36/100\n",
            "3/3 [==============================] - 4s 1s/step - loss: 0.8834 - acc: 0.6562 - val_loss: 1.1144 - val_acc: 0.3810\n",
            "Epoch 37/100\n",
            "3/3 [==============================] - 4s 1s/step - loss: 0.8611 - acc: 0.6458 - val_loss: 1.1162 - val_acc: 0.3810\n",
            "Epoch 38/100\n",
            "3/3 [==============================] - 4s 1s/step - loss: 0.8398 - acc: 0.6667 - val_loss: 1.1232 - val_acc: 0.4286\n",
            "Epoch 39/100\n",
            "3/3 [==============================] - 4s 1s/step - loss: 0.8331 - acc: 0.6979 - val_loss: 1.1240 - val_acc: 0.4286\n",
            "Epoch 40/100\n",
            "3/3 [==============================] - 4s 1s/step - loss: 0.8153 - acc: 0.6979 - val_loss: 1.1261 - val_acc: 0.4286\n",
            "Epoch 41/100\n",
            "3/3 [==============================] - 4s 1s/step - loss: 0.8484 - acc: 0.6667 - val_loss: 1.1298 - val_acc: 0.4286\n",
            "Epoch 42/100\n",
            "3/3 [==============================] - 4s 1s/step - loss: 0.8369 - acc: 0.6875 - val_loss: 1.1269 - val_acc: 0.3810\n",
            "Epoch 43/100\n",
            "3/3 [==============================] - 4s 1s/step - loss: 0.8156 - acc: 0.6771 - val_loss: 1.1262 - val_acc: 0.3810\n",
            "Epoch 44/100\n",
            "3/3 [==============================] - 4s 1s/step - loss: 0.8087 - acc: 0.6979 - val_loss: 1.1255 - val_acc: 0.3810\n",
            "Epoch 45/100\n",
            "3/3 [==============================] - 4s 1s/step - loss: 0.8015 - acc: 0.6667 - val_loss: 1.1297 - val_acc: 0.3810\n",
            "Epoch 46/100\n",
            "3/3 [==============================] - 4s 1s/step - loss: 0.7922 - acc: 0.7083 - val_loss: 1.1331 - val_acc: 0.3810\n",
            "Epoch 47/100\n",
            "3/3 [==============================] - 4s 1s/step - loss: 0.8002 - acc: 0.6667 - val_loss: 1.1337 - val_acc: 0.3810\n",
            "Epoch 48/100\n",
            "3/3 [==============================] - 4s 1s/step - loss: 0.7506 - acc: 0.7604 - val_loss: 1.1384 - val_acc: 0.4286\n",
            "Epoch 49/100\n",
            "3/3 [==============================] - 4s 1s/step - loss: 0.7757 - acc: 0.7604 - val_loss: 1.1402 - val_acc: 0.4286\n",
            "Epoch 50/100\n",
            "3/3 [==============================] - 4s 1s/step - loss: 0.7704 - acc: 0.7188 - val_loss: 1.1335 - val_acc: 0.3810\n",
            "Epoch 51/100\n",
            "3/3 [==============================] - 4s 1s/step - loss: 0.7522 - acc: 0.7188 - val_loss: 1.1325 - val_acc: 0.3810\n",
            "Epoch 52/100\n",
            "3/3 [==============================] - 4s 1s/step - loss: 0.7545 - acc: 0.7604 - val_loss: 1.1329 - val_acc: 0.3810\n",
            "Epoch 53/100\n",
            "3/3 [==============================] - 4s 1s/step - loss: 0.7365 - acc: 0.7083 - val_loss: 1.1337 - val_acc: 0.3810\n",
            "Epoch 54/100\n",
            "3/3 [==============================] - 4s 1s/step - loss: 0.7490 - acc: 0.6979 - val_loss: 1.1409 - val_acc: 0.4286\n",
            "Epoch 55/100\n",
            "3/3 [==============================] - 4s 1s/step - loss: 0.7194 - acc: 0.7396 - val_loss: 1.1381 - val_acc: 0.4286\n",
            "Epoch 56/100\n",
            "3/3 [==============================] - 4s 1s/step - loss: 0.7271 - acc: 0.7188 - val_loss: 1.1371 - val_acc: 0.4286\n",
            "Epoch 57/100\n",
            "3/3 [==============================] - 4s 1s/step - loss: 0.7356 - acc: 0.7396 - val_loss: 1.1380 - val_acc: 0.4286\n",
            "Epoch 58/100\n",
            "3/3 [==============================] - 4s 1s/step - loss: 0.7382 - acc: 0.7396 - val_loss: 1.1337 - val_acc: 0.3810\n",
            "Epoch 59/100\n",
            "3/3 [==============================] - 4s 1s/step - loss: 0.7102 - acc: 0.7396 - val_loss: 1.1322 - val_acc: 0.3810\n",
            "Epoch 60/100\n",
            "3/3 [==============================] - 4s 1s/step - loss: 0.7172 - acc: 0.7812 - val_loss: 1.1297 - val_acc: 0.3810\n",
            "Epoch 61/100\n",
            "3/3 [==============================] - 4s 1s/step - loss: 0.7016 - acc: 0.7812 - val_loss: 1.1353 - val_acc: 0.4286\n",
            "Epoch 62/100\n",
            "3/3 [==============================] - 4s 1s/step - loss: 0.7117 - acc: 0.7604 - val_loss: 1.1356 - val_acc: 0.4286\n",
            "Epoch 63/100\n",
            "3/3 [==============================] - 4s 2s/step - loss: 0.6827 - acc: 0.8021 - val_loss: 1.1381 - val_acc: 0.4286\n",
            "Epoch 64/100\n",
            "3/3 [==============================] - 4s 1s/step - loss: 0.6826 - acc: 0.7188 - val_loss: 1.1319 - val_acc: 0.4286\n",
            "Epoch 65/100\n",
            "3/3 [==============================] - 4s 2s/step - loss: 0.6579 - acc: 0.7708 - val_loss: 1.1278 - val_acc: 0.3810\n",
            "Epoch 66/100\n",
            "3/3 [==============================] - 4s 1s/step - loss: 0.6812 - acc: 0.7812 - val_loss: 1.1267 - val_acc: 0.3810\n",
            "Epoch 67/100\n",
            "3/3 [==============================] - 4s 1s/step - loss: 0.6441 - acc: 0.7812 - val_loss: 1.1268 - val_acc: 0.3810\n",
            "Epoch 68/100\n",
            "3/3 [==============================] - 4s 2s/step - loss: 0.6364 - acc: 0.7708 - val_loss: 1.1289 - val_acc: 0.4286\n",
            "Epoch 69/100\n",
            "3/3 [==============================] - 4s 1s/step - loss: 0.6609 - acc: 0.7812 - val_loss: 1.1276 - val_acc: 0.4286\n",
            "Epoch 70/100\n",
            "3/3 [==============================] - 4s 1s/step - loss: 0.6583 - acc: 0.7708 - val_loss: 1.1267 - val_acc: 0.4286\n",
            "Epoch 71/100\n",
            "3/3 [==============================] - 4s 1s/step - loss: 0.6442 - acc: 0.7708 - val_loss: 1.1258 - val_acc: 0.4286\n",
            "Epoch 72/100\n",
            "3/3 [==============================] - 4s 1s/step - loss: 0.6511 - acc: 0.8021 - val_loss: 1.1210 - val_acc: 0.4286\n",
            "Epoch 73/100\n",
            "3/3 [==============================] - 4s 1s/step - loss: 0.6388 - acc: 0.7604 - val_loss: 1.1203 - val_acc: 0.4286\n",
            "Epoch 74/100\n",
            "3/3 [==============================] - 4s 1s/step - loss: 0.6287 - acc: 0.8229 - val_loss: 1.1207 - val_acc: 0.4286\n",
            "Epoch 75/100\n",
            "3/3 [==============================] - 4s 1s/step - loss: 0.6222 - acc: 0.8125 - val_loss: 1.1201 - val_acc: 0.4286\n",
            "Epoch 76/100\n",
            "3/3 [==============================] - 4s 1s/step - loss: 0.6130 - acc: 0.8125 - val_loss: 1.1176 - val_acc: 0.4762\n",
            "Epoch 77/100\n",
            "3/3 [==============================] - 4s 1s/step - loss: 0.6145 - acc: 0.7604 - val_loss: 1.1062 - val_acc: 0.4286\n",
            "Epoch 78/100\n",
            "3/3 [==============================] - 4s 1s/step - loss: 0.6090 - acc: 0.8125 - val_loss: 1.0997 - val_acc: 0.4286\n",
            "Epoch 79/100\n",
            "3/3 [==============================] - 4s 2s/step - loss: 0.6023 - acc: 0.8021 - val_loss: 1.1013 - val_acc: 0.4286\n",
            "Epoch 80/100\n",
            "3/3 [==============================] - 4s 1s/step - loss: 0.5811 - acc: 0.7917 - val_loss: 1.1069 - val_acc: 0.4286\n",
            "Epoch 81/100\n",
            "3/3 [==============================] - 4s 1s/step - loss: 0.5789 - acc: 0.8021 - val_loss: 1.1137 - val_acc: 0.4762\n",
            "Epoch 82/100\n",
            "3/3 [==============================] - 4s 1s/step - loss: 0.6146 - acc: 0.8021 - val_loss: 1.1047 - val_acc: 0.4286\n",
            "Epoch 83/100\n",
            "3/3 [==============================] - 4s 1s/step - loss: 0.5732 - acc: 0.8125 - val_loss: 1.0919 - val_acc: 0.4286\n",
            "Epoch 84/100\n",
            "3/3 [==============================] - 4s 1s/step - loss: 0.5920 - acc: 0.8021 - val_loss: 1.0838 - val_acc: 0.4286\n",
            "Epoch 85/100\n",
            "3/3 [==============================] - 4s 1s/step - loss: 0.5920 - acc: 0.8021 - val_loss: 1.0871 - val_acc: 0.4286\n",
            "Epoch 86/100\n",
            "3/3 [==============================] - 4s 1s/step - loss: 0.5864 - acc: 0.8333 - val_loss: 1.0865 - val_acc: 0.4286\n",
            "Epoch 87/100\n",
            "3/3 [==============================] - 4s 1s/step - loss: 0.5599 - acc: 0.8125 - val_loss: 1.0891 - val_acc: 0.4762\n",
            "Epoch 88/100\n",
            "3/3 [==============================] - 4s 2s/step - loss: 0.5706 - acc: 0.7917 - val_loss: 1.0966 - val_acc: 0.4286\n",
            "Epoch 89/100\n",
            "3/3 [==============================] - 4s 1s/step - loss: 0.5766 - acc: 0.8542 - val_loss: 1.0889 - val_acc: 0.4286\n",
            "Epoch 90/100\n",
            "3/3 [==============================] - 4s 1s/step - loss: 0.5501 - acc: 0.8333 - val_loss: 1.0766 - val_acc: 0.4286\n",
            "Epoch 91/100\n",
            "3/3 [==============================] - 4s 1s/step - loss: 0.5477 - acc: 0.8125 - val_loss: 1.0699 - val_acc: 0.4286\n",
            "Epoch 92/100\n",
            "3/3 [==============================] - 4s 1s/step - loss: 0.5449 - acc: 0.8021 - val_loss: 1.0744 - val_acc: 0.4286\n",
            "Epoch 93/100\n",
            "3/3 [==============================] - 4s 1s/step - loss: 0.5323 - acc: 0.8438 - val_loss: 1.0775 - val_acc: 0.5238\n",
            "Epoch 94/100\n",
            "3/3 [==============================] - 4s 2s/step - loss: 0.5249 - acc: 0.8438 - val_loss: 1.0814 - val_acc: 0.4762\n",
            "Epoch 95/100\n",
            "3/3 [==============================] - 4s 1s/step - loss: 0.5313 - acc: 0.8542 - val_loss: 1.0767 - val_acc: 0.4762\n",
            "Epoch 96/100\n",
            "3/3 [==============================] - 4s 1s/step - loss: 0.5458 - acc: 0.8438 - val_loss: 1.0690 - val_acc: 0.5238\n",
            "Epoch 97/100\n",
            "3/3 [==============================] - 4s 1s/step - loss: 0.5178 - acc: 0.8333 - val_loss: 1.0702 - val_acc: 0.4762\n",
            "Epoch 98/100\n",
            "3/3 [==============================] - 4s 1s/step - loss: 0.5221 - acc: 0.8125 - val_loss: 1.0626 - val_acc: 0.5238\n",
            "Epoch 99/100\n",
            "3/3 [==============================] - 4s 1s/step - loss: 0.5227 - acc: 0.8646 - val_loss: 1.0568 - val_acc: 0.5238\n",
            "Epoch 100/100\n",
            "3/3 [==============================] - 4s 1s/step - loss: 0.5300 - acc: 0.8438 - val_loss: 1.0678 - val_acc: 0.5238\n"
          ]
        }
      ]
    },
    {
      "cell_type": "code",
      "metadata": {
        "colab": {
          "base_uri": "https://localhost:8080/"
        },
        "id": "AD-UNfhtocp-",
        "outputId": "929cc33a-8a7a-4dd7-d6db-e9c87a06c72a"
      },
      "source": [
        "from keras.models import model_from_json\n",
        "# serialize model to JSON\n",
        "model_json = model2.to_json()\n",
        "with open(\"model1.json\", \"w\") as json_file:\n",
        "    json_file.write(model_json)\n",
        "# serialize weights to HDF5\n",
        "model2.save_weights(\"model.h5\")\n",
        "print(\"Saved model to disk\")"
      ],
      "execution_count": null,
      "outputs": [
        {
          "output_type": "stream",
          "name": "stdout",
          "text": [
            "Saved model to disk\n"
          ]
        }
      ]
    },
    {
      "cell_type": "code",
      "metadata": {
        "colab": {
          "base_uri": "https://localhost:8080/"
        },
        "id": "UfMHY2zvocfw",
        "outputId": "23d8a485-3d9c-49ad-c9f3-6933e1b6db04"
      },
      "source": [
        "from keras.models import model_from_json\n",
        "# serialize model to JSON\n",
        "model_json = model2.to_json()\n",
        "with open(\"model2.json\", \"w\") as json_file:\n",
        "    json_file.write(model_json)\n",
        "# serialize weights to HDF5\n",
        "model2.save_weights(\"model2.h5\")\n",
        "print(\"Saved model to disk\")"
      ],
      "execution_count": null,
      "outputs": [
        {
          "output_type": "stream",
          "name": "stdout",
          "text": [
            "Saved model to disk\n"
          ]
        }
      ]
    },
    {
      "cell_type": "code",
      "metadata": {
        "colab": {
          "base_uri": "https://localhost:8080/",
          "height": 581
        },
        "id": "mamr1xMhocXT",
        "outputId": "8945a0ac-363e-4537-f514-f9fecf2230ad"
      },
      "source": [
        "%matplotlib inline\n",
        "\n",
        "import matplotlib.pyplot as plt\n",
        "\n",
        "plt.style.use(\"ggplot\")\n",
        "fig =plt.figure()\n",
        "plt.plot(np.arange(0, 100), H.history[\"loss\"], label=\"train_loss\")\n",
        "plt.plot(np.arange(0, 100), H.history[\"val_loss\"], label=\"val_loss\")\n",
        "plt.title(\"Loss Plot\")\n",
        "plt.xlabel(\"Epoch #\")\n",
        "plt.ylabel(\"Loss\")\n",
        "plt.legend()\n",
        "plt.show()\n",
        "image_format = 'svg' # e.g .png, .svg, etc.\n",
        "image_name = 'Los.svg'\n",
        "\n",
        "plt.style.use(\"ggplot\")\n",
        "fig2=plt.figure()\n",
        "plt.plot(np.arange(0, 100), H.history[\"acc\"], label=\"train_accuracy\")\n",
        "plt.plot(np.arange(0, 100), H.history[\"val_acc\"], label=\"val_accuracy\")\n",
        "plt.title(\"Accuracy Plot\")\n",
        "plt.xlabel(\"Epoch #\")\n",
        "plt.ylabel(\"Acc\")\n",
        "plt.legend()\n",
        "plt.show()\n",
        "image_format = 'svg' # e.g .png, .svg, etc.\n",
        "image_name = 'Accuracy.svg'\n",
        "\n",
        "fig2.savefig(image_name, format=image_format, dpi=1200)\n",
        "\n",
        "fig.savefig(image_name, format=image_format, dpi=1200)"
      ],
      "execution_count": null,
      "outputs": [
        {
          "output_type": "display_data",
          "data": {
            "image/png": "[encoded data removed]",
            "text/plain": [
              "<Figure size 432x288 with 1 Axes>"
            ]
          },
          "metadata": {}
        },
        {
          "output_type": "display_data",
          "data": {
            "image/png": "[encoded data removed]",
            "text/plain": [
              "<Figure size 432x288 with 1 Axes>"
            ]
          },
          "metadata": {}
        }
      ]
    },
    {
      "cell_type": "code",
      "metadata": {
        "colab": {
          "base_uri": "https://localhost:8080/",
          "height": 581
        },
        "id": "dfKlwMd-uAgk",
        "outputId": "d09a7d80-46e4-4a20-c56d-69009c8928d0"
      },
      "source": [
        "%matplotlib inline\n",
        "\n",
        "import matplotlib.pyplot as plt\n",
        "\n",
        "plt.style.use(\"ggplot\")\n",
        "fig3 =plt.figure()\n",
        "plt.plot(np.arange(0, 100), H2.history[\"loss\"], label=\"train_loss\")\n",
        "plt.plot(np.arange(0, 100), H2.history[\"val_loss\"], label=\"val_loss\")\n",
        "plt.title(\"Loss Plot\")\n",
        "plt.xlabel(\"Epoch #\")\n",
        "plt.ylabel(\"Loss\")\n",
        "plt.legend()\n",
        "plt.show()\n",
        "image_format = 'svg' # e.g .png, .svg, etc.\n",
        "image_name = 'Los.svg'\n",
        "\n",
        "plt.style.use(\"ggplot\")\n",
        "fig4=plt.figure()\n",
        "plt.plot(np.arange(0, 100), H2.history[\"acc\"], label=\"train_accuracy\")\n",
        "plt.plot(np.arange(0, 100), H2.history[\"val_acc\"], label=\"val_accuracy\")\n",
        "plt.title(\"Accuracy Plot\")\n",
        "plt.xlabel(\"Epoch #\")\n",
        "plt.ylabel(\"Acc\")\n",
        "plt.legend()\n",
        "plt.show()\n",
        "image_format = 'svg' # e.g .png, .svg, etc.\n",
        "image_name = 'Accuracy.svg'\n",
        "\n",
        "fig3.savefig(image_name, format=image_format, dpi=1200)\n",
        "\n",
        "fig4.savefig(image_name, format=image_format, dpi=1200)"
      ],
      "execution_count": null,
      "outputs": [
        {
          "output_type": "display_data",
          "data": {
            "image/png": "[encoded data removed]",
            "text/plain": [
              "<Figure size 432x288 with 1 Axes>"
            ]
          },
          "metadata": {}
        },
        {
          "output_type": "display_data",
          "data": {
            "image/png": "[encoded data removed]",
            "text/plain": [
              "<Figure size 432x288 with 1 Axes>"
            ]
          },
          "metadata": {}
        }
      ]
    },
    {
      "cell_type": "code",
      "metadata": {
        "id": "Kr3VsMPiuhrS"
      },
      "source": [
        ""
      ],
      "execution_count": null,
      "outputs": []
    },
    {
      "cell_type": "code",
      "metadata": {
        "id": "fdkJAo4Muhnz"
      },
      "source": [
        ""
      ],
      "execution_count": null,
      "outputs": []
    },
    {
      "cell_type": "code",
      "metadata": {
        "id": "14nZ2Q3JuhdZ"
      },
      "source": [
        ""
      ],
      "execution_count": null,
      "outputs": []
    }
  ]
}